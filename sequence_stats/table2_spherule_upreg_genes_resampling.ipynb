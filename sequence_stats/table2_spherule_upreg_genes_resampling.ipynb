{
 "cells": [
  {
   "cell_type": "code",
   "execution_count": 1,
   "id": "incoming-frost",
   "metadata": {},
   "outputs": [],
   "source": [
    "import pandas as pd\n",
    "import matplotlib.pyplot as plt\n",
    "import numpy as np\n",
    "import json\n",
    "import seaborn as sns\n",
    "from scipy.stats import fisher_exact"
   ]
  },
  {
   "cell_type": "code",
   "execution_count": 2,
   "id": "pressing-hypothesis",
   "metadata": {},
   "outputs": [
    {
     "data": {
      "text/html": [
       "<div>\n",
       "<style scoped>\n",
       "    .dataframe tbody tr th:only-of-type {\n",
       "        vertical-align: middle;\n",
       "    }\n",
       "\n",
       "    .dataframe tbody tr th {\n",
       "        vertical-align: top;\n",
       "    }\n",
       "\n",
       "    .dataframe thead th {\n",
       "        text-align: right;\n",
       "    }\n",
       "</style>\n",
       "<table border=\"1\" class=\"dataframe\">\n",
       "  <thead>\n",
       "    <tr style=\"text-align: right;\">\n",
       "      <th></th>\n",
       "      <th>gene</th>\n",
       "      <th>pi_AZ</th>\n",
       "      <th>pi_TXMXSA</th>\n",
       "      <th>DXY</th>\n",
       "      <th>PnPs</th>\n",
       "    </tr>\n",
       "  </thead>\n",
       "  <tbody>\n",
       "    <tr>\n",
       "      <th>0</th>\n",
       "      <td>D8B26_000001</td>\n",
       "      <td>0.013427</td>\n",
       "      <td>NaN</td>\n",
       "      <td>NaN</td>\n",
       "      <td>0.907040</td>\n",
       "    </tr>\n",
       "    <tr>\n",
       "      <th>1</th>\n",
       "      <td>D8B26_000002</td>\n",
       "      <td>0.004111</td>\n",
       "      <td>NaN</td>\n",
       "      <td>NaN</td>\n",
       "      <td>0.430434</td>\n",
       "    </tr>\n",
       "    <tr>\n",
       "      <th>2</th>\n",
       "      <td>D8B26_000003</td>\n",
       "      <td>0.006430</td>\n",
       "      <td>NaN</td>\n",
       "      <td>NaN</td>\n",
       "      <td>0.524033</td>\n",
       "    </tr>\n",
       "    <tr>\n",
       "      <th>3</th>\n",
       "      <td>D8B26_000004</td>\n",
       "      <td>0.003481</td>\n",
       "      <td>NaN</td>\n",
       "      <td>NaN</td>\n",
       "      <td>0.270093</td>\n",
       "    </tr>\n",
       "    <tr>\n",
       "      <th>4</th>\n",
       "      <td>D8B26_000006</td>\n",
       "      <td>NaN</td>\n",
       "      <td>NaN</td>\n",
       "      <td>NaN</td>\n",
       "      <td>0.652013</td>\n",
       "    </tr>\n",
       "  </tbody>\n",
       "</table>\n",
       "</div>"
      ],
      "text/plain": [
       "           gene     pi_AZ  pi_TXMXSA  DXY      PnPs\n",
       "0  D8B26_000001  0.013427        NaN  NaN  0.907040\n",
       "1  D8B26_000002  0.004111        NaN  NaN  0.430434\n",
       "2  D8B26_000003  0.006430        NaN  NaN  0.524033\n",
       "3  D8B26_000004  0.003481        NaN  NaN  0.270093\n",
       "4  D8B26_000006       NaN        NaN  NaN  0.652013"
      ]
     },
     "execution_count": 2,
     "metadata": {},
     "output_type": "execute_result"
    }
   ],
   "source": [
    "df = pd.read_csv('../tables/tableS1_sequence_stats_by_gene.csv')\n",
    "df = df.rename(columns={'Unnamed: 0':'gene'})\n",
    "df.head()"
   ]
  },
  {
   "cell_type": "code",
   "execution_count": 3,
   "id": "light-capitol",
   "metadata": {},
   "outputs": [],
   "source": [
    "def resample(gene_list, df, resample_cols, n=10000):\n",
    "    \n",
    "    for col in resample_cols:\n",
    "        \n",
    "        resample_col = df[df[col]!=np.inf][col].dropna()\n",
    "        candidate_col = resample_col[resample_col.index.isin(gene_list)]\n",
    "        resample_size = candidate_col.shape[0]\n",
    "        candidate_median = candidate_col.median()\n",
    "        resample_pool_size = resample_col.shape[0]\n",
    "        \n",
    "        \n",
    "        print('candidate median {}: {}'.format(col, candidate_median))\n",
    "        print('genomic median {}: {}'.format(col, resample_col.median()))\n",
    "        print('# genes to resample: {}'.format(resample_size))\n",
    "        print('resample pool size: {}'.format(resample_pool_size))\n",
    "\n",
    "\n",
    "        p = 0\n",
    "        for i in range(n):\n",
    "\n",
    "            sample = resample_col.sample(n=resample_size)\n",
    "            if sample.median() >= candidate_median:\n",
    "                p += 1\n",
    "\n",
    "        print(\"p = {}\".format(p/n))\n",
    "        print()\n"
   ]
  },
  {
   "cell_type": "code",
   "execution_count": 4,
   "id": "comfortable-evening",
   "metadata": {},
   "outputs": [
    {
     "data": {
      "text/plain": [
       "(1082, 6998)"
      ]
     },
     "execution_count": 4,
     "metadata": {},
     "output_type": "execute_result"
    }
   ],
   "source": [
    "exp = pd.read_csv('../ref/CpSilv_gb_annotations_and_expression_data.csv').set_index('Unnamed: 0')\n",
    "exp = exp[~exp['Beyhan_exp'].isna()]\n",
    "spherule_genes = exp[(exp['Beyhan_exp']=='spherule_upreg')].index.tolist()\n",
    "\n",
    "#cut to genes with expression data\n",
    "exp_df = df[df['gene'].isin(list(exp.index))].set_index('gene')\n",
    "\n",
    "len(spherule_genes), len(exp_df)"
   ]
  },
  {
   "cell_type": "code",
   "execution_count": 5,
   "id": "virgin-partition",
   "metadata": {
    "scrolled": true
   },
   "outputs": [
    {
     "name": "stdout",
     "output_type": "stream",
     "text": [
      "candidate median pi_AZ: 0.0010586606585412\n",
      "genomic median pi_AZ: 0.00093545551432545\n",
      "# genes to resample: 971\n",
      "resample pool size: 6690\n",
      "p = 0.0\n",
      "\n",
      "candidate median pi_TXMXSA: 0.0007454959618968\n",
      "genomic median pi_TXMXSA: 0.0007069479730476\n",
      "# genes to resample: 995\n",
      "resample pool size: 6861\n",
      "p = 0.0379\n",
      "\n",
      "candidate median DXY: 0.00115346536927795\n",
      "genomic median DXY: 0.00105619392137835\n",
      "# genes to resample: 952\n",
      "resample pool size: 6594\n",
      "p = 0.0002\n",
      "\n",
      "candidate median pi_TXMXSA: 0.0007454959618968\n",
      "genomic median pi_TXMXSA: 0.0007069479730476\n",
      "# genes to resample: 995\n",
      "resample pool size: 6861\n",
      "p = 0.0404\n",
      "\n",
      "candidate median PnPs: 0.34245877535913505\n",
      "genomic median PnPs: 0.3245855510080486\n",
      "# genes to resample: 748\n",
      "resample pool size: 5278\n",
      "p = 0.0099\n",
      "\n"
     ]
    }
   ],
   "source": [
    "np.random.seed(444)\n",
    "\n",
    "resample(spherule_genes, exp_df, ['pi_AZ', 'pi_TXMXSA', 'DXY',  'pi_TXMXSA', 'PnPs'])"
   ]
  },
  {
   "cell_type": "code",
   "execution_count": 6,
   "id": "latter-commander",
   "metadata": {},
   "outputs": [
    {
     "name": "stdout",
     "output_type": "stream",
     "text": [
      "candidate median pi_AZ: 0.0010586606585412\n",
      "genomic median pi_AZ: 0.00093545551432545\n",
      "# genes to resample: 971\n",
      "resample pool size: 6690\n",
      "p = 3e-07\n",
      "\n"
     ]
    }
   ],
   "source": [
    "np.random.seed(444)\n",
    "\n",
    "resample(spherule_genes, exp_df, ['pi_AZ'], n=10000000)"
   ]
  },
  {
   "cell_type": "code",
   "execution_count": null,
   "id": "brutal-signal",
   "metadata": {},
   "outputs": [],
   "source": []
  }
 ],
 "metadata": {
  "kernelspec": {
   "display_name": "py3",
   "language": "python",
   "name": "py3"
  },
  "language_info": {
   "codemirror_mode": {
    "name": "ipython",
    "version": 3
   },
   "file_extension": ".py",
   "mimetype": "text/x-python",
   "name": "python",
   "nbconvert_exporter": "python",
   "pygments_lexer": "ipython3",
   "version": "3.8.5"
  }
 },
 "nbformat": 4,
 "nbformat_minor": 5
}
