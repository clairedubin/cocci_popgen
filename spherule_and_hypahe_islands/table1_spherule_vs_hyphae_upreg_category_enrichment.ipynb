{
 "cells": [
  {
   "cell_type": "code",
   "execution_count": 14,
   "id": "incoming-frost",
   "metadata": {},
   "outputs": [],
   "source": [
    "import pandas as pd\n",
    "import matplotlib.pyplot as plt\n",
    "import numpy as np\n",
    "import json\n",
    "import seaborn as sns\n",
    "from scipy.stats import fisher_exact"
   ]
  },
  {
   "cell_type": "code",
   "execution_count": 15,
   "id": "comfortable-evening",
   "metadata": {},
   "outputs": [
    {
     "data": {
      "text/plain": [
       "(1082, 1200, 7301)"
      ]
     },
     "execution_count": 15,
     "metadata": {},
     "output_type": "execute_result"
    }
   ],
   "source": [
    "exp = pd.read_csv('../ref/CpSilv_gb_annotations_and_expression_data.csv').set_index('Unnamed: 0')\n",
    "exp = exp[~exp['Beyhan_exp'].isna()]\n",
    "spherule_genes = exp[(exp['Beyhan_exp']=='spherule_upreg')].index.tolist()\n",
    "hyphae_genes = exp[(exp['Beyhan_exp']=='hyphae_upreg')].index.tolist()\n",
    "\n",
    "len(spherule_genes),len(hyphae_genes), len(exp)"
   ]
  },
  {
   "cell_type": "markdown",
   "id": "wired-settle",
   "metadata": {},
   "source": [
    "### Transmembrane transporters"
   ]
  },
  {
   "cell_type": "code",
   "execution_count": 16,
   "id": "stuck-marathon",
   "metadata": {},
   "outputs": [
    {
     "name": "stdout",
     "output_type": "stream",
     "text": [
      "[[ 218  864]\n",
      " [1301 4918]]\n",
      "spherule prop in category: 0.1435, spherule prop in genome: 0.1494\n",
      "p = 0.5978615580893053\n"
     ]
    }
   ],
   "source": [
    "### Are spherule upregulated genes enriched for transmembrane transporters? - NO\n",
    "\n",
    "spherule_tm = exp[(exp['Beyhan_exp']=='spherule_upreg') & ~(exp['TransMembrane'].isna())].shape[0]\n",
    "spherule_not_tm = exp[(exp['Beyhan_exp']=='spherule_upreg') & (exp['TransMembrane'].isna())].shape[0]\n",
    "\n",
    "not_spherule_tm = exp[(exp['Beyhan_exp']!='spherule_upreg') & ~(exp['TransMembrane'].isna())].shape[0]\n",
    "not_spherule_not_tm = exp[(exp['Beyhan_exp']!='spherule_upreg') & (exp['TransMembrane'].isna())].shape[0]\n",
    "\n",
    "\n",
    "p = fisher_exact(np.array([[spherule_tm, spherule_not_tm,], [not_spherule_tm, not_spherule_not_tm]]),\n",
    "                alternative='two-sided')[1]\n",
    "\n",
    "print(np.array([[spherule_tm, spherule_not_tm,], [not_spherule_tm, not_spherule_not_tm]]))\n",
    "print('spherule prop in category: {}, spherule prop in genome: {}'.format(round(spherule_tm/(spherule_tm+not_spherule_tm), 4),\n",
    "                                                       round(spherule_not_tm/(spherule_not_tm+not_spherule_not_tm), 4)), )\n",
    "print('p = {}'.format(p))"
   ]
  },
  {
   "cell_type": "code",
   "execution_count": 17,
   "id": "vertical-chocolate",
   "metadata": {},
   "outputs": [
    {
     "name": "stdout",
     "output_type": "stream",
     "text": [
      "[[ 319  881]\n",
      " [1200 4901]]\n",
      "hyphae prop in category: 0.21, hyphae prop in genome: 0.1524\n",
      "p = 1.4206006361531886e-07\n"
     ]
    }
   ],
   "source": [
    "### Are hyphae upregulated genes enriched for transmembrane transporters? - YES\n",
    "\n",
    "hyphae_tm = exp[(exp['Beyhan_exp']=='hyphae_upreg') & ~(exp['TransMembrane'].isna())].shape[0]\n",
    "hyphae_not_tm = exp[(exp['Beyhan_exp']=='hyphae_upreg') & (exp['TransMembrane'].isna())].shape[0]\n",
    "\n",
    "not_hyphae_tm = exp[(exp['Beyhan_exp']!='hyphae_upreg') & ~(exp['TransMembrane'].isna())].shape[0]\n",
    "not_hyphae_not_tm = exp[(exp['Beyhan_exp']!='hyphae_upreg') & (exp['TransMembrane'].isna())].shape[0]\n",
    "\n",
    "\n",
    "p = fisher_exact(np.array([[hyphae_tm, hyphae_not_tm,], [not_hyphae_tm, not_hyphae_not_tm]]),\n",
    "                alternative='two-sided')[1]\n",
    "\n",
    "print(np.array([[hyphae_tm, hyphae_not_tm,], [not_hyphae_tm, not_hyphae_not_tm]]))\n",
    "print('hyphae prop in category: {}, hyphae prop in genome: {}'.format(round(hyphae_tm/(hyphae_tm+not_hyphae_tm), 4),\n",
    "                                                       round(hyphae_not_tm/(hyphae_not_tm+not_hyphae_not_tm), 4)), )\n",
    "print('p = {}'.format(p))"
   ]
  },
  {
   "cell_type": "markdown",
   "id": "hindu-listing",
   "metadata": {},
   "source": [
    "### Signal peptides"
   ]
  },
  {
   "cell_type": "code",
   "execution_count": 18,
   "id": "aging-magnet",
   "metadata": {},
   "outputs": [
    {
     "name": "stdout",
     "output_type": "stream",
     "text": [
      "[[  67 1015]\n",
      " [ 334 5885]]\n",
      "spherule prop in category: 0.1671, spherule prop in genome: 0.1471\n",
      "p = 0.2780842400949015\n"
     ]
    }
   ],
   "source": [
    "### Are spherule upregulated genes enriched for signal peptides? - NO\n",
    "\n",
    "spherule_secreted = exp[(exp['Beyhan_exp']=='spherule_upreg') & ~(exp['SECRETED'].isna())].shape[0]\n",
    "spherule_not_secreted = exp[(exp['Beyhan_exp']=='spherule_upreg') & (exp['SECRETED'].isna())].shape[0]\n",
    "\n",
    "not_spherule_secreted = exp[(exp['Beyhan_exp']!='spherule_upreg') & ~(exp['SECRETED'].isna())].shape[0]\n",
    "not_spherule_not_secreted = exp[(exp['Beyhan_exp']!='spherule_upreg') & (exp['SECRETED'].isna())].shape[0]\n",
    "\n",
    "\n",
    "p = fisher_exact(np.array([[spherule_secreted, spherule_not_secreted,], [not_spherule_secreted, not_spherule_not_secreted]]),\n",
    "                alternative='two-sided')[1]\n",
    "\n",
    "print(np.array([[spherule_secreted, spherule_not_secreted,], [not_spherule_secreted, not_spherule_not_secreted]]))\n",
    "print('spherule prop in category: {}, spherule prop in genome: {}'.format(round(spherule_secreted/(spherule_secreted+not_spherule_secreted), 4),\n",
    "                                                       round(spherule_not_secreted/(spherule_not_secreted+not_spherule_not_secreted), 4)), )\n",
    "print('p = {}'.format(p))"
   ]
  },
  {
   "cell_type": "code",
   "execution_count": 19,
   "id": "mobile-montgomery",
   "metadata": {},
   "outputs": [
    {
     "name": "stdout",
     "output_type": "stream",
     "text": [
      "[[ 130 1070]\n",
      " [ 271 5830]]\n",
      "hyphae prop in category: 0.3242, hyphae prop in genome: 0.1551\n",
      "p = 3.9569576713280115e-16\n"
     ]
    }
   ],
   "source": [
    "### Are hyphae upregulated genes enriched for signal peptides? - YES\n",
    "\n",
    "hyphae_secreted = exp[(exp['Beyhan_exp']=='hyphae_upreg') & ~(exp['SECRETED'].isna())].shape[0]\n",
    "hyphae_not_secreted = exp[(exp['Beyhan_exp']=='hyphae_upreg') & (exp['SECRETED'].isna())].shape[0]\n",
    "\n",
    "not_hyphae_secreted = exp[(exp['Beyhan_exp']!='hyphae_upreg') & ~(exp['SECRETED'].isna())].shape[0]\n",
    "not_hyphae_not_secreted = exp[(exp['Beyhan_exp']!='hyphae_upreg') & (exp['SECRETED'].isna())].shape[0]\n",
    "\n",
    "\n",
    "p = fisher_exact(np.array([[hyphae_secreted, hyphae_not_secreted,], [not_hyphae_secreted, not_hyphae_not_secreted]]),\n",
    "                alternative='two-sided')[1]\n",
    "\n",
    "print(np.array([[hyphae_secreted, hyphae_not_secreted,], [not_hyphae_secreted, not_hyphae_not_secreted]]))\n",
    "print('hyphae prop in category: {}, hyphae prop in genome: {}'.format(round(hyphae_secreted/(hyphae_secreted+not_hyphae_secreted), 4),\n",
    "                                                       round(hyphae_not_secreted/(hyphae_not_secreted+not_hyphae_not_secreted), 4)), )\n",
    "print('p = {}'.format(p))"
   ]
  },
  {
   "cell_type": "markdown",
   "id": "surprising-sheep",
   "metadata": {},
   "source": [
    "### Carbohydrate active enzymes"
   ]
  },
  {
   "cell_type": "code",
   "execution_count": 20,
   "id": "frank-trust",
   "metadata": {},
   "outputs": [
    {
     "name": "stdout",
     "output_type": "stream",
     "text": [
      "[[  32 1050]\n",
      " [ 124 6095]]\n",
      "spherule prop in category: 0.2051, spherule prop in genome: 0.147\n",
      "p = 0.05196333601426406\n"
     ]
    }
   ],
   "source": [
    "### Are spherule upregulated genes enriched for carbohydrate active enzymes? - NO (borderline)\n",
    "\n",
    "spherule_CAZy = exp[(exp['Beyhan_exp']=='spherule_upreg') & ~(exp['CAZy'].isna())].shape[0]\n",
    "spherule_not_CAZy = exp[(exp['Beyhan_exp']=='spherule_upreg') & (exp['CAZy'].isna())].shape[0]\n",
    "\n",
    "not_spherule_CAZy = exp[(exp['Beyhan_exp']!='spherule_upreg') & ~(exp['CAZy'].isna())].shape[0]\n",
    "not_spherule_not_CAZy = exp[(exp['Beyhan_exp']!='spherule_upreg') & (exp['CAZy'].isna())].shape[0]\n",
    "\n",
    "\n",
    "p = fisher_exact(np.array([[spherule_CAZy, spherule_not_CAZy,], [not_spherule_CAZy, not_spherule_not_CAZy]]),\n",
    "                alternative='two-sided')[1]\n",
    "\n",
    "print(np.array([[spherule_CAZy, spherule_not_CAZy,], [not_spherule_CAZy, not_spherule_not_CAZy]]))\n",
    "print('spherule prop in category: {}, spherule prop in genome: {}'.format(round(spherule_CAZy/(spherule_CAZy+not_spherule_CAZy), 4),\n",
    "                                                       round(spherule_not_CAZy/(spherule_not_CAZy+not_spherule_not_CAZy), 4)), )\n",
    "print('p = {}'.format(p))"
   ]
  },
  {
   "cell_type": "code",
   "execution_count": 21,
   "id": "improving-journalism",
   "metadata": {},
   "outputs": [
    {
     "name": "stdout",
     "output_type": "stream",
     "text": [
      "[[  42 1158]\n",
      " [ 114 5987]]\n",
      "hyphae prop in category: 0.2692, hyphae prop in genome: 0.1621\n",
      "p = 0.0009312903706935388\n"
     ]
    }
   ],
   "source": [
    "### Are hyphae upregulated genes enriched for carbohydrate active enzymes? - yes\n",
    "\n",
    "hyphae_CAZy = exp[(exp['Beyhan_exp']=='hyphae_upreg') & ~(exp['CAZy'].isna())].shape[0]\n",
    "hyphae_not_CAZy = exp[(exp['Beyhan_exp']=='hyphae_upreg') & (exp['CAZy'].isna())].shape[0]\n",
    "\n",
    "not_hyphae_CAZy = exp[(exp['Beyhan_exp']!='hyphae_upreg') & ~(exp['CAZy'].isna())].shape[0]\n",
    "not_hyphae_not_CAZy = exp[(exp['Beyhan_exp']!='hyphae_upreg') & (exp['CAZy'].isna())].shape[0]\n",
    "\n",
    "\n",
    "p = fisher_exact(np.array([[hyphae_CAZy, hyphae_not_CAZy,], [not_hyphae_CAZy, not_hyphae_not_CAZy]]),\n",
    "                alternative='two-sided')[1]\n",
    "\n",
    "print(np.array([[hyphae_CAZy, hyphae_not_CAZy,], [not_hyphae_CAZy, not_hyphae_not_CAZy]]))\n",
    "print('hyphae prop in category: {}, hyphae prop in genome: {}'.format(round(hyphae_CAZy/(hyphae_CAZy+not_hyphae_CAZy), 4),\n",
    "                                                       round(hyphae_not_CAZy/(hyphae_not_CAZy+not_hyphae_not_CAZy), 4)), )\n",
    "print('p = {}'.format(p))"
   ]
  },
  {
   "cell_type": "markdown",
   "id": "explicit-memphis",
   "metadata": {},
   "source": [
    "### antiSMASH clusters"
   ]
  },
  {
   "cell_type": "code",
   "execution_count": 22,
   "id": "appropriate-radical",
   "metadata": {},
   "outputs": [
    {
     "name": "stdout",
     "output_type": "stream",
     "text": [
      "[[  63 1019]\n",
      " [ 208 6011]]\n",
      "spherule prop in category: 0.2325, spherule prop in genome: 0.145\n",
      "p = 0.00016468276244570513\n"
     ]
    }
   ],
   "source": [
    "### Are spherule upregulated genes enriched in antiSMASH cluster? - YES\n",
    "\n",
    "spherule_antiSMASH = exp[(exp['Beyhan_exp']=='spherule_upreg') & ~(exp['antiSMASH'].isna())].shape[0]\n",
    "spherule_not_antiSMASH = exp[(exp['Beyhan_exp']=='spherule_upreg') & (exp['antiSMASH'].isna())].shape[0]\n",
    "\n",
    "not_spherule_antiSMASH = exp[(exp['Beyhan_exp']!='spherule_upreg') & ~(exp['antiSMASH'].isna())].shape[0]\n",
    "not_spherule_not_antiSMASH = exp[(exp['Beyhan_exp']!='spherule_upreg') & (exp['antiSMASH'].isna())].shape[0]\n",
    "\n",
    "\n",
    "p = fisher_exact(np.array([[spherule_antiSMASH, spherule_not_antiSMASH,], [not_spherule_antiSMASH, not_spherule_not_antiSMASH]]),\n",
    "                alternative='two-sided')[1]\n",
    "\n",
    "print(np.array([[spherule_antiSMASH, spherule_not_antiSMASH,], [not_spherule_antiSMASH, not_spherule_not_antiSMASH]]))\n",
    "print('spherule prop in category: {}, spherule prop in genome: {}'.format(round(spherule_antiSMASH/(spherule_antiSMASH+not_spherule_antiSMASH), 4),\n",
    "                                                       round(spherule_not_antiSMASH/(spherule_not_antiSMASH+not_spherule_not_antiSMASH), 4)), )\n",
    "print('p = {}'.format(p))"
   ]
  },
  {
   "cell_type": "code",
   "execution_count": 23,
   "id": "consolidated-brother",
   "metadata": {},
   "outputs": [
    {
     "name": "stdout",
     "output_type": "stream",
     "text": [
      "[[  53 1147]\n",
      " [ 218 5883]]\n",
      "hyphae prop in category: 0.1956, hyphae prop in genome: 0.1632\n",
      "p = 0.15613653223219995\n"
     ]
    }
   ],
   "source": [
    "### Are hyphae upregulated genes enriched in antiSMASH cluster? - NO\n",
    "\n",
    "hyphae_antiSMASH = exp[(exp['Beyhan_exp']=='hyphae_upreg') & ~(exp['antiSMASH'].isna())].shape[0]\n",
    "hyphae_not_antiSMASH = exp[(exp['Beyhan_exp']=='hyphae_upreg') & (exp['antiSMASH'].isna())].shape[0]\n",
    "\n",
    "not_hyphae_antiSMASH = exp[(exp['Beyhan_exp']!='hyphae_upreg') & ~(exp['antiSMASH'].isna())].shape[0]\n",
    "not_hyphae_not_antiSMASH = exp[(exp['Beyhan_exp']!='hyphae_upreg') & (exp['antiSMASH'].isna())].shape[0]\n",
    "\n",
    "\n",
    "p = fisher_exact(np.array([[hyphae_antiSMASH, hyphae_not_antiSMASH,], [not_hyphae_antiSMASH, not_hyphae_not_antiSMASH]]),\n",
    "                alternative='two-sided')[1]\n",
    "\n",
    "print(np.array([[hyphae_antiSMASH, hyphae_not_antiSMASH,], [not_hyphae_antiSMASH, not_hyphae_not_antiSMASH]]))\n",
    "print('hyphae prop in category: {}, hyphae prop in genome: {}'.format(round(hyphae_antiSMASH/(hyphae_antiSMASH+not_hyphae_antiSMASH), 4),\n",
    "                                                       round(hyphae_not_antiSMASH/(hyphae_not_antiSMASH+not_hyphae_not_antiSMASH), 4)), )\n",
    "print('p = {}'.format(p))"
   ]
  },
  {
   "cell_type": "markdown",
   "id": "collaborative-terrorism",
   "metadata": {},
   "source": [
    "### Secondary metabolism gene families"
   ]
  },
  {
   "cell_type": "code",
   "execution_count": 24,
   "id": "signed-sequence",
   "metadata": {},
   "outputs": [
    {
     "name": "stdout",
     "output_type": "stream",
     "text": [
      "[[  30 1052]\n",
      " [  51 6168]]\n",
      "spherule prop in category: 0.3704, spherule prop in genome: 0.1457\n",
      "p = 6.156172599690421e-07\n"
     ]
    }
   ],
   "source": [
    "### Are spherule upregulated genes enriched for secondary metabolism gene families? - YES\n",
    "\n",
    "spherule_SMCOG = exp[(exp['Beyhan_exp']=='spherule_upreg') & ~(exp['SMCOG'].isna())].shape[0]\n",
    "spherule_not_SMCOG = exp[(exp['Beyhan_exp']=='spherule_upreg') & (exp['SMCOG'].isna())].shape[0]\n",
    "\n",
    "not_spherule_SMCOG = exp[(exp['Beyhan_exp']!='spherule_upreg') & ~(exp['SMCOG'].isna())].shape[0]\n",
    "not_spherule_not_SMCOG = exp[(exp['Beyhan_exp']!='spherule_upreg') & (exp['SMCOG'].isna())].shape[0]\n",
    "\n",
    "\n",
    "p = fisher_exact(np.array([[spherule_SMCOG, spherule_not_SMCOG,], [not_spherule_SMCOG, not_spherule_not_SMCOG]]),\n",
    "                alternative='two-sided')[1]\n",
    "\n",
    "print(np.array([[spherule_SMCOG, spherule_not_SMCOG,], [not_spherule_SMCOG, not_spherule_not_SMCOG]]))\n",
    "print('spherule prop in category: {}, spherule prop in genome: {}'.format(round(spherule_SMCOG/(spherule_SMCOG+not_spherule_SMCOG), 4),\n",
    "                                                       round(spherule_not_SMCOG/(spherule_not_SMCOG+not_spherule_not_SMCOG), 4)), )\n",
    "print('p = {}'.format(p))"
   ]
  },
  {
   "cell_type": "code",
   "execution_count": 25,
   "id": "regional-sustainability",
   "metadata": {},
   "outputs": [
    {
     "name": "stdout",
     "output_type": "stream",
     "text": [
      "[[  20 1180]\n",
      " [  61 6040]]\n",
      "hyphae prop in category: 0.2469, hyphae prop in genome: 0.1634\n",
      "p = 0.049834429405231286\n"
     ]
    }
   ],
   "source": [
    "### Are hyphae upregulated genes enriched for secondary metabolism gene families? - YES\n",
    "\n",
    "hyphae_SMCOG = exp[(exp['Beyhan_exp']=='hyphae_upreg') & ~(exp['SMCOG'].isna())].shape[0]\n",
    "hyphae_not_SMCOG = exp[(exp['Beyhan_exp']=='hyphae_upreg') & (exp['SMCOG'].isna())].shape[0]\n",
    "\n",
    "not_hyphae_SMCOG = exp[(exp['Beyhan_exp']!='hyphae_upreg') & ~(exp['SMCOG'].isna())].shape[0]\n",
    "not_hyphae_not_SMCOG = exp[(exp['Beyhan_exp']!='hyphae_upreg') & (exp['SMCOG'].isna())].shape[0]\n",
    "\n",
    "\n",
    "p = fisher_exact(np.array([[hyphae_SMCOG, hyphae_not_SMCOG,], [not_hyphae_SMCOG, not_hyphae_not_SMCOG]]),\n",
    "                alternative='two-sided')[1]\n",
    "\n",
    "print(np.array([[hyphae_SMCOG, hyphae_not_SMCOG,], [not_hyphae_SMCOG, not_hyphae_not_SMCOG]]))\n",
    "print('hyphae prop in category: {}, hyphae prop in genome: {}'.format(round(hyphae_SMCOG/(hyphae_SMCOG+not_hyphae_SMCOG), 4),\n",
    "                                                       round(hyphae_not_SMCOG/(hyphae_not_SMCOG+not_hyphae_not_SMCOG), 4)), )\n",
    "print('p = {}'.format(p))"
   ]
  }
 ],
 "metadata": {
  "kernelspec": {
   "display_name": "py3",
   "language": "python",
   "name": "py3"
  },
  "language_info": {
   "codemirror_mode": {
    "name": "ipython",
    "version": 3
   },
   "file_extension": ".py",
   "mimetype": "text/x-python",
   "name": "python",
   "nbconvert_exporter": "python",
   "pygments_lexer": "ipython3",
   "version": "3.8.5"
  }
 },
 "nbformat": 4,
 "nbformat_minor": 5
}
