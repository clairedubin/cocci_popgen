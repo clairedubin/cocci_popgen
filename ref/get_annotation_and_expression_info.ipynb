{
 "cells": [
  {
   "cell_type": "markdown",
   "id": "lonely-hamilton",
   "metadata": {},
   "source": [
    "**Extract GenBank annotation info and add expression data from Mandel et al: https://journals.plos.org/plospathogens/article?id=10.1371/journal.ppat.1009832#sec020**"
   ]
  },
  {
   "cell_type": "code",
   "execution_count": 1,
   "id": "regional-plasma",
   "metadata": {},
   "outputs": [],
   "source": [
    "from Bio import SeqIO\n",
    "import pandas as pd\n",
    "import csv\n",
    "import numpy as np"
   ]
  },
  {
   "cell_type": "markdown",
   "id": "competent-palace",
   "metadata": {},
   "source": [
    "### Extracting info from GenBank files\n",
    "from: https://www.ncbi.nlm.nih.gov/nuccore/CP075068.1 to https://www.ncbi.nlm.nih.gov/nuccore/CP075072.1"
   ]
  },
  {
   "cell_type": "code",
   "execution_count": 2,
   "id": "coordinated-madness",
   "metadata": {},
   "outputs": [],
   "source": [
    "gene_dict = {}\n",
    "\n",
    "feature_types = ['GO_function','GO_process','GO_component','TransMembrane','SECRETED','antiSMASH','MEROPS',\n",
    "                 'EggNog','COG', 'BUSCO','CAZy','SMCOG']\n",
    "\n",
    "multiple_annotation_genes = {}\n",
    "\n",
    "for i in range(1,6):\n",
    "\n",
    "    for chrom in SeqIO.parse('genbank_files/chr{}.gb'.format(i), 'gb'):\n",
    "        for f in chrom.features:\n",
    "            if f.type == 'CDS':\n",
    "                \n",
    "                gene_features = [None]*len(feature_types)\n",
    "                gene = f.qualifiers['locus_tag'][0]\n",
    "                \n",
    "                alt_name = None\n",
    "                if 'gene' in f.qualifiers:\n",
    "                    alt_name = f.qualifiers['gene'][0]\n",
    "                \n",
    "                product=None\n",
    "                if 'product' in f.qualifiers:\n",
    "                    product = f.qualifiers['product'][0]\n",
    "                    \n",
    "                pfam = None\n",
    "                if 'db_xref' in f.qualifiers:\n",
    "                    pfam = ';'.join([p.replace('PFAM:','') for p in f.qualifiers['db_xref'] if 'PFAM' in p])\n",
    "                    \n",
    "                if 'note' in f.qualifiers:                \n",
    "                    for s in ''.join(f.qualifiers['note']).split('; '):\n",
    "                        category = s.split(':')[0]\n",
    "                        \n",
    "                        if category in feature_types:\n",
    "                            cat_index = feature_types.index(category)\n",
    "                            split_on = ':'\n",
    "                        elif 'SMCOG' in category:\n",
    "                            cat_index = feature_types.index('SMCOG') \n",
    "                            split_on='SMCOG'\n",
    "                        else:\n",
    "                            continue\n",
    "                            \n",
    "                        if not gene_features[cat_index]:\n",
    "                            gene_features[cat_index] = s.split(split_on, 1)[1]\n",
    "                        else:\n",
    "                            gene_features[cat_index]+=';'+s.split(split_on, 1)[1]\n",
    "\n",
    "                if gene in gene_dict:\n",
    "                    if gene in multiple_annotation_genes:\n",
    "                        multiple_annotation_genes[gene] += [[product, alt_name, pfam]+gene_features]\n",
    "                    else:\n",
    "                        multiple_annotation_genes[gene] = [gene_dict[gene]] + [[product, alt_name, pfam]+gene_features]\n",
    "                else:\n",
    "                    gene_dict[gene] = [product, alt_name, pfam]+gene_features   "
   ]
  },
  {
   "cell_type": "code",
   "execution_count": 3,
   "id": "electrical-pearl",
   "metadata": {},
   "outputs": [],
   "source": [
    "df = pd.DataFrame.from_dict(gene_dict, orient='index')\n",
    "df.columns = ['product', 'alt_name', 'PFAM']+feature_types\n",
    "\n",
    "go_cols = ['GO_function', 'GO_process', 'GO_component']\n",
    "df[go_cols] = df[go_cols].replace(\"\\s\\[Evidence IEA\\]\", '', regex=True)\n"
   ]
  },
  {
   "cell_type": "code",
   "execution_count": 4,
   "id": "statewide-clarity",
   "metadata": {},
   "outputs": [
    {
     "data": {
      "text/plain": [
       "(8237, 15)"
      ]
     },
     "execution_count": 4,
     "metadata": {},
     "output_type": "execute_result"
    }
   ],
   "source": [
    "df.shape"
   ]
  },
  {
   "cell_type": "markdown",
   "id": "light-memorabilia",
   "metadata": {},
   "source": [
    "## Add expression data and old CPSG names\n",
    "\n",
    "From table S1 here: https://journals.plos.org/plospathogens/article?id=10.1371/journal.ppat.1009832#sec020"
   ]
  },
  {
   "cell_type": "code",
   "execution_count": 6,
   "id": "duplicate-variance",
   "metadata": {},
   "outputs": [],
   "source": [
    "fp = csv.reader(open(\"Beyhan_Whiston_Carlin_SH.sorted.cdt\"), dialect = csv.excel_tab)\n",
    "temp = {}\n",
    "for i,line in enumerate(fp):\n",
    "    if i == 0:\n",
    "        cols = line[1:]\n",
    "        continue\n",
    "    elif i < 3:\n",
    "        continue\n",
    "    temp[line[0]] = line[1:]\n",
    "    \n",
    "exp = pd.DataFrame.from_dict(temp, orient='index', columns=cols)"
   ]
  },
  {
   "cell_type": "code",
   "execution_count": 7,
   "id": "embedded-cooperation",
   "metadata": {},
   "outputs": [],
   "source": [
    "exp = exp[['Cp_new_GenBank','CiRS','WT.S/WT.H','p(WT.S/WT.H)','Cp_S/Cp_H', 'p(Cp_S/Cp_H)']]\n",
    "\n",
    "exp = exp.replace(r'^\\s*$', np.nan, regex=True)\n",
    "exp = exp.astype({'WT.S/WT.H': 'float', 'p(WT.S/WT.H)': 'float',\n",
    "                 'Cp_S/Cp_H':'float', 'p(Cp_S/Cp_H)':'float'})\n",
    "exp = exp.sort_index()\n",
    "\n",
    "def classify_expression(val, p):\n",
    "    \n",
    "    if np.isnan(val):\n",
    "        return None\n",
    "    if p <= 0.05 and val <= -1:\n",
    "        return 'hyphae_upreg'\n",
    "    elif p <= 0.05 and val >= 1:\n",
    "        return 'spherule_upreg'\n",
    "    else:\n",
    "        return 'no upreg'\n",
    "    \n",
    "exp['Beyhan_exp'] = exp.apply(lambda x: classify_expression(x['WT.S/WT.H'], x['p(WT.S/WT.H)']), axis=1)\n",
    "exp['Whiston_exp'] = exp.apply(lambda x: classify_expression(x['Cp_S/Cp_H'], x['p(Cp_S/Cp_H)']), axis=1)\n",
    "\n",
    "exp = exp[~exp['Cp_new_GenBank'].isna()]\n",
    "exp = exp.reset_index().set_index('Cp_new_GenBank').rename(columns={'index':'CPSG'})"
   ]
  },
  {
   "cell_type": "code",
   "execution_count": 8,
   "id": "tropical-appendix",
   "metadata": {},
   "outputs": [],
   "source": [
    "merged = df.merge(exp, left_index=True, right_index=True, how='left')"
   ]
  },
  {
   "cell_type": "code",
   "execution_count": 9,
   "id": "sought-draft",
   "metadata": {},
   "outputs": [
    {
     "data": {
      "text/plain": [
       "(8237, 23)"
      ]
     },
     "execution_count": 9,
     "metadata": {},
     "output_type": "execute_result"
    }
   ],
   "source": [
    "merged.shape"
   ]
  },
  {
   "cell_type": "code",
   "execution_count": 10,
   "id": "spoken-recruitment",
   "metadata": {},
   "outputs": [
    {
     "name": "stdout",
     "output_type": "stream",
     "text": [
      "# spherule-upregulated genes: 1082\n",
      "# hyphae-upregulated genes: 1200\n",
      "# non differentially upregulated genes: 5019\n",
      "# genes without expression data: 936\n"
     ]
    }
   ],
   "source": [
    "print('# spherule-upregulated genes: {}'.format(merged[merged['Beyhan_exp']=='spherule_upreg'].shape[0]))\n",
    "print('# hyphae-upregulated genes: {}'.format(merged[merged['Beyhan_exp']=='hyphae_upreg'].shape[0]))\n",
    "print('# non differentially upregulated genes: {}'.format(merged[merged['Beyhan_exp']=='no upreg'].shape[0]))\n",
    "print('# genes without expression data: {}'.format(merged[merged['Beyhan_exp'].isna()].shape[0]))\n"
   ]
  },
  {
   "cell_type": "code",
   "execution_count": 11,
   "id": "surrounded-words",
   "metadata": {},
   "outputs": [],
   "source": [
    "merged.to_csv('CpSilv_gb_annotations_and_expression_data.csv')"
   ]
  }
 ],
 "metadata": {
  "kernelspec": {
   "display_name": "py3",
   "language": "python",
   "name": "py3"
  },
  "language_info": {
   "codemirror_mode": {
    "name": "ipython",
    "version": 3
   },
   "file_extension": ".py",
   "mimetype": "text/x-python",
   "name": "python",
   "nbconvert_exporter": "python",
   "pygments_lexer": "ipython3",
   "version": "3.8.5"
  }
 },
 "nbformat": 4,
 "nbformat_minor": 5
}
