{
 "cells": [
  {
   "cell_type": "code",
   "execution_count": 7,
   "id": "antique-english",
   "metadata": {},
   "outputs": [],
   "source": [
    "import pandas as pd\n",
    "import matplotlib.pyplot as plt\n",
    "import seaborn as sns\n",
    "import numpy as np\n",
    "from scipy import stats\n",
    "import json\n",
    "from scipy.stats import percentileofscore\n",
    "\n",
    "pd.set_option(\"display.max_columns\", None)\n"
   ]
  },
  {
   "cell_type": "code",
   "execution_count": 8,
   "id": "backed-freight",
   "metadata": {},
   "outputs": [
    {
     "data": {
      "text/plain": [
       "(7301, 23)"
      ]
     },
     "execution_count": 8,
     "metadata": {},
     "output_type": "execute_result"
    }
   ],
   "source": [
    "exp = pd.read_csv('../ref/CpSilv_gb_annotations_and_expression_data.csv').set_index('Unnamed: 0')\n",
    "exp = exp[~exp['Beyhan_exp'].isna()]\n",
    "hyphae_genes = exp[exp['Beyhan_exp']=='hyphae_upreg'].index.drop_duplicates().tolist()\n",
    "exp.shape"
   ]
  },
  {
   "cell_type": "code",
   "execution_count": 3,
   "id": "pleased-family",
   "metadata": {},
   "outputs": [
    {
     "data": {
      "text/plain": [
       "(7301, 8)"
      ]
     },
     "execution_count": 3,
     "metadata": {},
     "output_type": "execute_result"
    }
   ],
   "source": [
    "gff_path = '../ref/genbank_files/CpSilv.gff3'\n",
    "gff = pd.read_csv(gff_path, sep='\\t', header=None, comment='#')[[0,2,3,4,6,8]]\n",
    "gff.columns = ['chrom', 'type', 'start', 'stop', 'direction', 'annotation']\n",
    "gff = gff[(gff['type'] == 'gene')]\n",
    "gff['gene'] = gff['annotation'].str.split(';',expand=True)[0].str.split(\"ID=gene-\", expand=True)[1]\n",
    "gff['midpoint'] = gff['start'] + (gff['stop']-gff['start'])/2\n",
    "\n",
    "gff = gff[gff['gene'].isin(exp.index.tolist())]\n",
    "gff.shape"
   ]
  },
  {
   "cell_type": "code",
   "execution_count": 4,
   "id": "standing-value",
   "metadata": {},
   "outputs": [],
   "source": [
    "chr_lens = {'CP075068.1':8340845,\n",
    "            'CP075069.1':8079863,\n",
    "            'CP075070.1':6494557,\n",
    "            'CP075071.1':3437093,\n",
    "            'CP075072.1':1489275}\n",
    "\n",
    "#function to assign genes to windows based on their midpoints\n",
    "\n",
    "def get_genes_in_window(window_start, window_size, chrom, gff):\n",
    "    \n",
    "    temp = gff[gff['chrom']==chrom]    \n",
    "    temp = temp[temp['midpoint'].between(window_start, window_start+window_size)]['gene'].tolist()\n",
    "    return [g for g in temp if g in exp.index.tolist()]\n",
    "\n",
    "hyphae_gff = gff[gff['gene'].isin(hyphae_genes)]"
   ]
  },
  {
   "cell_type": "code",
   "execution_count": 5,
   "id": "dense-helicopter",
   "metadata": {},
   "outputs": [],
   "source": [
    "#divide genome into windows\n",
    "\n",
    "window_size = 25000\n",
    "\n",
    "chr_windows = {}\n",
    "\n",
    "for chrom, chrom_len in chr_lens.items():\n",
    "    chr_windows[chrom] = np.arange(0, chrom_len, window_size)\n",
    "    \n",
    "gene_windows = []\n",
    "gene_windows_by_chrom = {}\n",
    "\n",
    "for chrom in chr_windows:\n",
    "    for window in chr_windows[chrom]:\n",
    "        genes_in_window = get_genes_in_window(window, window_size, chrom, gff)\n",
    "        if genes_in_window:\n",
    "            gene_windows += [genes_in_window]\n",
    "    gene_windows_by_chrom[chrom] = gene_windows\n"
   ]
  },
  {
   "cell_type": "code",
   "execution_count": 10,
   "id": "sufficient-reader",
   "metadata": {},
   "outputs": [
    {
     "name": "stdout",
     "output_type": "stream",
     "text": [
      "real count of windows with at least 6 hyphae-upregulated genes: 4\n"
     ]
    },
    {
     "data": {
      "text/plain": [
       "99.285"
      ]
     },
     "execution_count": 10,
     "metadata": {},
     "output_type": "execute_result"
    }
   ],
   "source": [
    "threshold = 6\n",
    "n = 10000\n",
    "np.random.seed(100)\n",
    "hyphae_genes = exp[exp['Beyhan_exp']=='hyphae_upreg'].index.drop_duplicates().tolist()\n",
    "\n",
    "\n",
    "###REAL WINDOW COUNTS\n",
    "real_high_hyphae_gene_areas = []\n",
    "\n",
    "for window in gene_windows:\n",
    "    hyphae_genes_in_window = [gene for gene in window if gene in hyphae_genes]\n",
    "    if len(hyphae_genes_in_window) >= threshold:\n",
    "        real_high_hyphae_gene_areas += [window]\n",
    "print('real count of windows with at least {} hyphae-upregulated genes: {}'.format(threshold, len(real_high_hyphae_gene_areas)))        \n",
    "     \n",
    "\n",
    "###BOOTSTRAPPED WINDOW COUNTS\n",
    "bootstrap_high_hyphae_gene_areas = []\n",
    "num_hyphae_genes = len(hyphae_genes)\n",
    "all_genes = exp.index.drop_duplicates().to_numpy()\n",
    "\n",
    "for i in range(n):\n",
    "    \n",
    "    if i % 1000 == 0:\n",
    "        print(i)\n",
    "    \n",
    "    randomized_hyphae_genes = np.random.choice(all_genes, num_hyphae_genes, replace=False)\n",
    "    windows_at_or_over_threshold = 0\n",
    "    for window in gene_windows:\n",
    "        hyphae_genes_in_window = [gene for gene in window if gene in randomized_hyphae_genes]\n",
    "        \n",
    "        if len(hyphae_genes_in_window) >= threshold:\n",
    "            windows_at_or_over_threshold += 1\n",
    "            \n",
    "    bootstrap_high_hyphae_gene_areas += [windows_at_or_over_threshold]\n",
    "            \n",
    "bootstrap_high_hyphae_gene_areas = sorted(bootstrap_high_hyphae_gene_areas)\n",
    "real_count_percentile = percentileofscore(bootstrap_high_hyphae_gene_areas, len(real_high_hyphae_gene_areas), kind='mean')\n",
    "real_count_percentile"
   ]
  },
  {
   "cell_type": "code",
   "execution_count": 11,
   "id": "supposed-armstrong",
   "metadata": {},
   "outputs": [
    {
     "data": {
      "text/plain": [
       "0.00714999999999999"
      ]
     },
     "execution_count": 11,
     "metadata": {},
     "output_type": "execute_result"
    }
   ],
   "source": [
    "1-.99285"
   ]
  },
  {
   "cell_type": "markdown",
   "id": "automatic-height",
   "metadata": {},
   "source": [
    "### Plotting"
   ]
  },
  {
   "cell_type": "code",
   "execution_count": 12,
   "id": "million-syria",
   "metadata": {},
   "outputs": [],
   "source": [
    "hyphae_color1 = '#cc9d58'\n",
    "hyphae_color2 = '#806134'"
   ]
  },
  {
   "cell_type": "code",
   "execution_count": 13,
   "id": "imposed-woman",
   "metadata": {},
   "outputs": [
    {
     "data": {
      "image/png": "[encoded data removed]",
      "text/plain": [
       "<Figure size 1500x500 with 1 Axes>"
      ]
     },
     "metadata": {},
     "output_type": "display_data"
    }
   ],
   "source": [
    "#divide genome into windows\n",
    "\n",
    "chr_windows = {}\n",
    "\n",
    "for chrom, chrom_len in chr_lens.items():\n",
    "    chr_windows[chrom] = np.arange(0, chrom_len, window_size)\n",
    "\n",
    "gene_windows_by_chrom = {}\n",
    "\n",
    "for chrom in chr_windows:\n",
    "    gene_windows = []\n",
    "    for window in chr_windows[chrom]:\n",
    "        genes_in_window = get_genes_in_window(window, window_size, chrom, hyphae_gff)\n",
    "        gene_windows += [genes_in_window]\n",
    "            \n",
    "    gene_windows_by_chrom[chrom] = gene_windows\n",
    "\n",
    "plt.figure(figsize=(15,5))\n",
    "\n",
    "cumulative_chrom_lengths = [0]\n",
    "for i, (chrom, chrom_len) in enumerate(chr_lens.items()):\n",
    "    \n",
    "    if i%2 == 0:\n",
    "        color = hyphae_color1\n",
    "    else:\n",
    "        color = hyphae_color2\n",
    "\n",
    "    x = [i+cumulative_chrom_lengths[-1] for i in chr_windows[chrom]]\n",
    "    y = [len(g) for g in gene_windows_by_chrom[chrom]]\n",
    "    \n",
    "    plt.bar(x,y, ec=color)\n",
    "    \n",
    "    cumulative_chrom_lengths += [chrom_len+cumulative_chrom_lengths[-1]]\n",
    "    \n",
    "plt.axhline(y=threshold, color='darkgray', linestyle='--')\n",
    "    \n",
    "xtick_pos = [np.mean([cumulative_chrom_lengths[i], cumulative_chrom_lengths[i+1]]) for i in range(5)]\n",
    "plt.xticks(xtick_pos,np.arange(1,6), fontsize=14)\n",
    "plt.xlabel('Chromosome', fontsize=16)\n",
    "plt.ylabel('hyphae-upregulated gene count', fontsize=16)\n",
    "plt.yticks(fontsize=14)\n",
    "plt.savefig('../figures/fig2B_raw.png', dpi=300)\n",
    "plt.show()    "
   ]
  },
  {
   "cell_type": "markdown",
   "id": "blessed-eleven",
   "metadata": {},
   "source": [
    "### Save genes and their locations to file (Table S2)"
   ]
  },
  {
   "cell_type": "code",
   "execution_count": 14,
   "id": "altered-lebanon",
   "metadata": {},
   "outputs": [],
   "source": [
    "window_size = 25000\n",
    "all_window_genes = []\n",
    "windows = []\n",
    "chr_windows = {}\n",
    "\n",
    "for chrom, chrom_len in chr_lens.items():\n",
    "    chr_windows[chrom] = np.arange(0, chrom_len, window_size)\n",
    "    \n",
    "gene_windows = []\n",
    "\n",
    "for chrom in chr_windows:\n",
    "    for window in chr_windows[chrom]:\n",
    "        genes_in_window = get_genes_in_window(window, window_size, chrom, gff)\n",
    "        if genes_in_window:\n",
    "            gene_windows += [genes_in_window]\n",
    "            \n",
    "for window in gene_windows:\n",
    "    hyphae_genes_in_window = [gene for gene in window if gene in hyphae_genes]\n",
    "    if len(hyphae_genes_in_window) >= threshold:\n",
    "        all_window_genes += window\n",
    "        windows += [window]"
   ]
  },
  {
   "cell_type": "code",
   "execution_count": 16,
   "id": "increasing-trustee",
   "metadata": {},
   "outputs": [],
   "source": [
    "gene_info = gff[gff['gene'].isin(all_window_genes)][['gene', 'chrom', 'start', 'stop', 'annotation']]\n",
    "gene_info = gene_info.merge(exp['Beyhan_exp'], left_on='gene', right_index=True)\n",
    "gene_info = gene_info.rename(columns={'Beyhan_exp':'expression (Mandel et al 2022)'})\n",
    "\n",
    "chr_nums = {'CP075068.1':1,\n",
    "            'CP075069.1':2,\n",
    "            'CP075070.1':3,\n",
    "            'CP075071.1':4,\n",
    "            'CP075072.1':5}\n",
    "\n",
    "gene_info = gene_info.replace({\"chrom\": chr_nums})\n",
    "\n",
    "gene_window_dict = {}\n",
    "window_num = 1\n",
    "for gene in all_window_genes:\n",
    "    if gene in windows[window_num-1]:\n",
    "        gene_window_dict[gene] = str(window_num)\n",
    "    else:\n",
    "        window_num += 1\n",
    "        gene_window_dict[gene] = str(window_num)\n",
    "        \n",
    "        \n",
    "gene_info['window_number'] = gene_info['gene'].map(gene_window_dict)\n",
    "gene_info = gene_info[['window_number']+list(gene_info.columns[:-1])]\n",
    "\n",
    "gene_info.to_csv('../tables/TableS2_hyphae.csv', index=False)"
   ]
  },
  {
   "cell_type": "code",
   "execution_count": null,
   "id": "lasting-difficulty",
   "metadata": {},
   "outputs": [],
   "source": []
  }
 ],
 "metadata": {
  "kernelspec": {
   "display_name": "py3",
   "language": "python",
   "name": "py3"
  }
 },
 "nbformat": 4,
 "nbformat_minor": 5
}
