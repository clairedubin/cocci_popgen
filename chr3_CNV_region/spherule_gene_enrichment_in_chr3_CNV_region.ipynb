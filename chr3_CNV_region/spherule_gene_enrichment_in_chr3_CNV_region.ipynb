{
 "cells": [
  {
   "cell_type": "code",
   "execution_count": 1,
   "id": "growing-documentary",
   "metadata": {},
   "outputs": [],
   "source": [
    "import pandas as pd\n",
    "from collections import Counter\n",
    "import seaborn as sns\n",
    "import matplotlib.pyplot as plt\n",
    "from matplotlib.pyplot import cm\n",
    "import numpy as np\n",
    "import json\n",
    "from Bio import SeqIO\n",
    "\n",
    "from scipy.stats import fisher_exact\n"
   ]
  },
  {
   "cell_type": "code",
   "execution_count": 2,
   "id": "independent-fifteen",
   "metadata": {},
   "outputs": [],
   "source": [
    "exp = pd.read_csv('../ref/CpSilv_gb_annotations_and_expression_data.csv').set_index('Unnamed: 0')"
   ]
  },
  {
   "cell_type": "code",
   "execution_count": 3,
   "id": "nominated-black",
   "metadata": {},
   "outputs": [
    {
     "data": {
      "text/html": [
       "<div>\n",
       "<style scoped>\n",
       "    .dataframe tbody tr th:only-of-type {\n",
       "        vertical-align: middle;\n",
       "    }\n",
       "\n",
       "    .dataframe tbody tr th {\n",
       "        vertical-align: top;\n",
       "    }\n",
       "\n",
       "    .dataframe thead th {\n",
       "        text-align: right;\n",
       "    }\n",
       "</style>\n",
       "<table border=\"1\" class=\"dataframe\">\n",
       "  <thead>\n",
       "    <tr style=\"text-align: right;\">\n",
       "      <th></th>\n",
       "      <th>chrom</th>\n",
       "      <th>type</th>\n",
       "      <th>start</th>\n",
       "      <th>stop</th>\n",
       "      <th>direction</th>\n",
       "      <th>annotation</th>\n",
       "      <th>gene</th>\n",
       "    </tr>\n",
       "  </thead>\n",
       "  <tbody>\n",
       "    <tr>\n",
       "      <th>0</th>\n",
       "      <td>CP075068.1</td>\n",
       "      <td>gene</td>\n",
       "      <td>57375</td>\n",
       "      <td>57980</td>\n",
       "      <td>-</td>\n",
       "      <td>ID=gene-D8B26_000001;Name=D8B26_000001;gbkey=G...</td>\n",
       "      <td>D8B26_000001</td>\n",
       "    </tr>\n",
       "    <tr>\n",
       "      <th>1</th>\n",
       "      <td>CP075068.1</td>\n",
       "      <td>gene</td>\n",
       "      <td>58131</td>\n",
       "      <td>58768</td>\n",
       "      <td>-</td>\n",
       "      <td>ID=gene-D8B26_000002;Name=D8B26_000002;gbkey=G...</td>\n",
       "      <td>D8B26_000002</td>\n",
       "    </tr>\n",
       "    <tr>\n",
       "      <th>2</th>\n",
       "      <td>CP075068.1</td>\n",
       "      <td>gene</td>\n",
       "      <td>58628</td>\n",
       "      <td>59933</td>\n",
       "      <td>-</td>\n",
       "      <td>ID=gene-D8B26_000003;Name=D8B26_000003;gbkey=G...</td>\n",
       "      <td>D8B26_000003</td>\n",
       "    </tr>\n",
       "    <tr>\n",
       "      <th>3</th>\n",
       "      <td>CP075068.1</td>\n",
       "      <td>gene</td>\n",
       "      <td>60054</td>\n",
       "      <td>62173</td>\n",
       "      <td>-</td>\n",
       "      <td>ID=gene-D8B26_000004;Name=D8B26_000004;gbkey=G...</td>\n",
       "      <td>D8B26_000004</td>\n",
       "    </tr>\n",
       "    <tr>\n",
       "      <th>4</th>\n",
       "      <td>CP075068.1</td>\n",
       "      <td>gene</td>\n",
       "      <td>126638</td>\n",
       "      <td>126720</td>\n",
       "      <td>+</td>\n",
       "      <td>ID=gene-D8B26_000005;Name=D8B26_000005;gbkey=G...</td>\n",
       "      <td>D8B26_000005</td>\n",
       "    </tr>\n",
       "  </tbody>\n",
       "</table>\n",
       "</div>"
      ],
      "text/plain": [
       "        chrom  type   start    stop direction  \\\n",
       "0  CP075068.1  gene   57375   57980         -   \n",
       "1  CP075068.1  gene   58131   58768         -   \n",
       "2  CP075068.1  gene   58628   59933         -   \n",
       "3  CP075068.1  gene   60054   62173         -   \n",
       "4  CP075068.1  gene  126638  126720         +   \n",
       "\n",
       "                                          annotation          gene  \n",
       "0  ID=gene-D8B26_000001;Name=D8B26_000001;gbkey=G...  D8B26_000001  \n",
       "1  ID=gene-D8B26_000002;Name=D8B26_000002;gbkey=G...  D8B26_000002  \n",
       "2  ID=gene-D8B26_000003;Name=D8B26_000003;gbkey=G...  D8B26_000003  \n",
       "3  ID=gene-D8B26_000004;Name=D8B26_000004;gbkey=G...  D8B26_000004  \n",
       "4  ID=gene-D8B26_000005;Name=D8B26_000005;gbkey=G...  D8B26_000005  "
      ]
     },
     "execution_count": 3,
     "metadata": {},
     "output_type": "execute_result"
    }
   ],
   "source": [
    "gff_path = '../ref/genbank_files/CpSilv.genes_only.gff3'\n",
    "gff = pd.read_csv(gff_path, sep='\\t', header=None)[[0,2,3,4,6,8]]\n",
    "gff.columns = ['chrom', 'type', 'start', 'stop', 'direction', 'annotation']\n",
    "gff['gene'] = gff['annotation'].str.split(';',expand=True)[0].str.replace('ID=gene-','')\n",
    "\n",
    "gff.head()"
   ]
  },
  {
   "cell_type": "code",
   "execution_count": 9,
   "id": "handed-senegal",
   "metadata": {},
   "outputs": [
    {
     "data": {
      "text/plain": [
       "78"
      ]
     },
     "execution_count": 9,
     "metadata": {},
     "output_type": "execute_result"
    }
   ],
   "source": [
    "gene_list = gff[(gff['chrom']=='CP075070.1') & (gff['start'].isin(range(1237751, 1428001)))]['gene'].tolist()\n",
    "len(gene_list)"
   ]
  },
  {
   "cell_type": "code",
   "execution_count": 10,
   "id": "approved-plastic",
   "metadata": {},
   "outputs": [],
   "source": [
    "exp = exp[~exp['Beyhan_exp'].isna()]"
   ]
  },
  {
   "cell_type": "code",
   "execution_count": 11,
   "id": "likely-creation",
   "metadata": {},
   "outputs": [],
   "source": [
    "spherule_upreg_genes = exp[(exp['Beyhan_exp']=='spherule_upreg')].index.tolist()\n",
    "not_spherule_upreg_genes = exp[~(exp['Beyhan_exp']=='spherule_upreg')].index.tolist()"
   ]
  },
  {
   "cell_type": "code",
   "execution_count": 12,
   "id": "suspected-fountain",
   "metadata": {},
   "outputs": [
    {
     "name": "stdout",
     "output_type": "stream",
     "text": [
      "[[  16   41]\n",
      " [1066 6178]]\n",
      "p = 0.00819651590501725\n"
     ]
    }
   ],
   "source": [
    "### Is the chr3 deletion region enriched for spherule upregulated genes?\n",
    "\n",
    "chr3_spherule = len([gene for gene in gene_list if gene in spherule_upreg_genes])\n",
    "chr3_not_spherule = len([gene for gene in gene_list if gene in not_spherule_upreg_genes])\n",
    "\n",
    "not_chr3_spherule = len([gene for gene in spherule_upreg_genes if gene not in gene_list])\n",
    "not_chr3_not_spherule = len([gene for gene in not_spherule_upreg_genes if gene not in gene_list])\n",
    "\n",
    "\n",
    "p = fisher_exact(np.array([[chr3_spherule, chr3_not_spherule,], [not_chr3_spherule, not_chr3_not_spherule]]),\n",
    "                alternative='two-sided')[1]\n",
    "\n",
    "print(np.array([[chr3_spherule, chr3_not_spherule,], [not_chr3_spherule, not_chr3_not_spherule]]))\n",
    "# print('spherule prop in category: {}, spherule prop in genome: {}'.format(round(spherule_tm/(spherule_tm+not_spherule_tm), 4),\n",
    "#                                                        round(spherule_not_tm/(spherule_not_tm+not_spherule_not_tm), 4)), )\n",
    "print('p = {}'.format(p))"
   ]
  }
 ],
 "metadata": {
  "kernelspec": {
   "display_name": "py3",
   "language": "python",
   "name": "py3"
  },
  "language_info": {
   "codemirror_mode": {
    "name": "ipython",
    "version": 3
   },
   "file_extension": ".py",
   "mimetype": "text/x-python",
   "name": "python",
   "nbconvert_exporter": "python",
   "pygments_lexer": "ipython3",
   "version": "3.8.5"
  }
 },
 "nbformat": 4,
 "nbformat_minor": 5
}
