{
 "cells": [
  {
   "cell_type": "code",
   "execution_count": 21,
   "id": "incoming-frost",
   "metadata": {},
   "outputs": [],
   "source": [
    "import pandas as pd\n",
    "import matplotlib.pyplot as plt\n",
    "import numpy as np\n",
    "import json\n",
    "import seaborn as sns\n",
    "from scipy.stats import fisher_exact\n",
    "from statsmodels.stats.multitest import multipletests"
   ]
  },
  {
   "cell_type": "code",
   "execution_count": 22,
   "id": "spiritual-closer",
   "metadata": {},
   "outputs": [],
   "source": [
    "with open('../ref/genbank_files/pfam_domains.json') as f:\n",
    "    pfam_dict = json.load(f)\n",
    "    \n",
    "pfam_dict_rev = {}\n",
    "\n",
    "for gene, pfams in pfam_dict.items():\n",
    "    \n",
    "    for p in pfams:\n",
    "        \n",
    "        if p not in pfam_dict_rev:\n",
    "            pfam_dict_rev[p] = [gene]\n",
    "            \n",
    "        else:\n",
    "            pfam_dict_rev[p] += [gene]"
   ]
  },
  {
   "cell_type": "code",
   "execution_count": 23,
   "id": "seven-greenhouse",
   "metadata": {},
   "outputs": [],
   "source": [
    "def resample(gene_list, df, resample_cols, n=10000, noisy=False):\n",
    "    \n",
    "    p_list = []\n",
    "    \n",
    "    for col in resample_cols:\n",
    "        \n",
    "        resample_col = df[df[col]!=np.inf][col].dropna()\n",
    "        candidate_col = resample_col[resample_col.index.isin(gene_list)]\n",
    "        resample_size = candidate_col.shape[0]\n",
    "        candidate_median = candidate_col.median()\n",
    "        resample_pool_size = resample_col.shape[0]\n",
    "        \n",
    "        if noisy:\n",
    "            print('candidate median {}: {}'.format(col, candidate_median))\n",
    "            print('genomic median {}: {}'.format(col, resample_col.median()))\n",
    "            print('# genes to resample: {}'.format(resample_size))\n",
    "            print('resample pool size: {}'.format(resample_pool_size))\n",
    "\n",
    "        p = 0\n",
    "        for i in range(n):\n",
    "\n",
    "            sample = resample_col.sample(n=resample_size)\n",
    "            if sample.median() >= candidate_median:\n",
    "                p += 1\n",
    "        \n",
    "        if noisy:\n",
    "            print(\"p = {}\".format(p/n))\n",
    "            print()\n",
    "        \n",
    "        p_list += [p/n]\n",
    "        \n",
    "    return p_list  "
   ]
  },
  {
   "cell_type": "code",
   "execution_count": 24,
   "id": "hindu-simple",
   "metadata": {},
   "outputs": [
    {
     "data": {
      "text/html": [
       "<div>\n",
       "<style scoped>\n",
       "    .dataframe tbody tr th:only-of-type {\n",
       "        vertical-align: middle;\n",
       "    }\n",
       "\n",
       "    .dataframe tbody tr th {\n",
       "        vertical-align: top;\n",
       "    }\n",
       "\n",
       "    .dataframe thead th {\n",
       "        text-align: right;\n",
       "    }\n",
       "</style>\n",
       "<table border=\"1\" class=\"dataframe\">\n",
       "  <thead>\n",
       "    <tr style=\"text-align: right;\">\n",
       "      <th></th>\n",
       "      <th>pi_AZ</th>\n",
       "      <th>pi_TXMXSA</th>\n",
       "      <th>DXY</th>\n",
       "      <th>PnPs</th>\n",
       "    </tr>\n",
       "    <tr>\n",
       "      <th>Unnamed: 0</th>\n",
       "      <th></th>\n",
       "      <th></th>\n",
       "      <th></th>\n",
       "      <th></th>\n",
       "    </tr>\n",
       "  </thead>\n",
       "  <tbody>\n",
       "    <tr>\n",
       "      <th>D8B26_000001</th>\n",
       "      <td>0.013427</td>\n",
       "      <td>NaN</td>\n",
       "      <td>NaN</td>\n",
       "      <td>0.907040</td>\n",
       "    </tr>\n",
       "    <tr>\n",
       "      <th>D8B26_000002</th>\n",
       "      <td>0.004111</td>\n",
       "      <td>NaN</td>\n",
       "      <td>NaN</td>\n",
       "      <td>0.430434</td>\n",
       "    </tr>\n",
       "    <tr>\n",
       "      <th>D8B26_000003</th>\n",
       "      <td>0.006430</td>\n",
       "      <td>NaN</td>\n",
       "      <td>NaN</td>\n",
       "      <td>0.524033</td>\n",
       "    </tr>\n",
       "    <tr>\n",
       "      <th>D8B26_000004</th>\n",
       "      <td>0.003481</td>\n",
       "      <td>NaN</td>\n",
       "      <td>NaN</td>\n",
       "      <td>0.270093</td>\n",
       "    </tr>\n",
       "    <tr>\n",
       "      <th>D8B26_000006</th>\n",
       "      <td>NaN</td>\n",
       "      <td>NaN</td>\n",
       "      <td>NaN</td>\n",
       "      <td>0.652013</td>\n",
       "    </tr>\n",
       "  </tbody>\n",
       "</table>\n",
       "</div>"
      ],
      "text/plain": [
       "                 pi_AZ  pi_TXMXSA  DXY      PnPs\n",
       "Unnamed: 0                                      \n",
       "D8B26_000001  0.013427        NaN  NaN  0.907040\n",
       "D8B26_000002  0.004111        NaN  NaN  0.430434\n",
       "D8B26_000003  0.006430        NaN  NaN  0.524033\n",
       "D8B26_000004  0.003481        NaN  NaN  0.270093\n",
       "D8B26_000006       NaN        NaN  NaN  0.652013"
      ]
     },
     "execution_count": 24,
     "metadata": {},
     "output_type": "execute_result"
    }
   ],
   "source": [
    "df = pd.read_csv('../tables/tableS1_sequence_stats_by_gene.csv')\n",
    "df = df.set_index('Unnamed: 0')\n",
    "df.head()"
   ]
  },
  {
   "cell_type": "code",
   "execution_count": 25,
   "id": "compound-indiana",
   "metadata": {},
   "outputs": [
    {
     "name": "stdout",
     "output_type": "stream",
     "text": [
      "candidate median pi_AZ: 0.0017637281226261\n",
      "genomic median pi_AZ: 0.0009547460527852\n",
      "# genes to resample: 27\n",
      "resample pool size: 7509\n",
      "p = 0.0001\n",
      "\n",
      "candidate median DXY: 0.0019837310772341\n",
      "genomic median DXY: 0.0010734330587271\n",
      "# genes to resample: 27\n",
      "resample pool size: 7391\n",
      "p = 0.0\n",
      "\n",
      "candidate median pi_TXMXSA: 0.0012299140553721\n",
      "genomic median pi_TXMXSA: 0.0007203179334326\n",
      "# genes to resample: 29\n",
      "resample pool size: 7699\n",
      "p = 0.0026\n",
      "\n",
      "candidate median PnPs: 0.5830364566081423\n",
      "genomic median PnPs: 0.32850767233678113\n",
      "# genes to resample: 20\n",
      "resample pool size: 5818\n",
      "p = 0.0077\n",
      "\n"
     ]
    },
    {
     "data": {
      "text/plain": [
       "[0.0001, 0.0, 0.0026, 0.0077]"
      ]
     },
     "execution_count": 25,
     "metadata": {},
     "output_type": "execute_result"
    }
   ],
   "source": [
    "pfam = 'PFAM:PF01636'\n",
    "pfam_genes = pfam_dict_rev[pfam]\n",
    "\n",
    "\n",
    "np.random.seed(444)\n",
    "resample(pfam_genes, df, ['pi_AZ', 'DXY', 'pi_TXMXSA', 'PnPs'], noisy=True)\n"
   ]
  },
  {
   "cell_type": "code",
   "execution_count": 26,
   "id": "crazy-press",
   "metadata": {},
   "outputs": [
    {
     "name": "stdout",
     "output_type": "stream",
     "text": [
      "candidate median DXY: 0.0019837310772341\n",
      "genomic median DXY: 0.0010734330587271\n",
      "# genes to resample: 27\n",
      "resample pool size: 7391\n",
      "p = 8e-05\n",
      "\n"
     ]
    },
    {
     "data": {
      "text/plain": [
       "[8e-05]"
      ]
     },
     "execution_count": 26,
     "metadata": {},
     "output_type": "execute_result"
    }
   ],
   "source": [
    "resample(pfam_genes, df, ['DXY'], noisy=True, n=100000)"
   ]
  },
  {
   "cell_type": "code",
   "execution_count": null,
   "id": "capital-weather",
   "metadata": {},
   "outputs": [],
   "source": []
  },
  {
   "cell_type": "code",
   "execution_count": null,
   "id": "deadly-trial",
   "metadata": {},
   "outputs": [],
   "source": []
  }
 ],
 "metadata": {
  "kernelspec": {
   "display_name": "py3",
   "language": "python",
   "name": "py3"
  },
  "language_info": {
   "codemirror_mode": {
    "name": "ipython",
    "version": 3
   },
   "file_extension": ".py",
   "mimetype": "text/x-python",
   "name": "python",
   "nbconvert_exporter": "python",
   "pygments_lexer": "ipython3",
   "version": "3.8.5"
  }
 },
 "nbformat": 4,
 "nbformat_minor": 5
}
