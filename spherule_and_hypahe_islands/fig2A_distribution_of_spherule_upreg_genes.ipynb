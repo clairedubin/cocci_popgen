{
 "cells": [
  {
   "cell_type": "code",
   "execution_count": 9,
   "id": "antique-english",
   "metadata": {},
   "outputs": [],
   "source": [
    "import pandas as pd\n",
    "import matplotlib.pyplot as plt\n",
    "import seaborn as sns\n",
    "import numpy as np\n",
    "from scipy import stats\n",
    "import json\n",
    "from scipy.stats import percentileofscore\n",
    "\n",
    "pd.set_option(\"display.max_columns\", None)"
   ]
  },
  {
   "cell_type": "code",
   "execution_count": 3,
   "id": "fourth-board",
   "metadata": {},
   "outputs": [
    {
     "data": {
      "text/plain": [
       "(7301, 23)"
      ]
     },
     "execution_count": 3,
     "metadata": {},
     "output_type": "execute_result"
    }
   ],
   "source": [
    "exp = pd.read_csv('../ref/CpSilv_gb_annotations_and_expression_data.csv').set_index('Unnamed: 0')\n",
    "exp = exp[~exp['Beyhan_exp'].isna()]\n",
    "exp.shape"
   ]
  },
  {
   "cell_type": "code",
   "execution_count": 4,
   "id": "prerequisite-locking",
   "metadata": {},
   "outputs": [
    {
     "data": {
      "text/plain": [
       "(7301, 8)"
      ]
     },
     "execution_count": 4,
     "metadata": {},
     "output_type": "execute_result"
    }
   ],
   "source": [
    "gff_path = '../ref/genbank_files/CpSilv.gff3'\n",
    "gff = pd.read_csv(gff_path, sep='\\t', header=None, comment='#')[[0,2,3,4,6,8]]\n",
    "gff.columns = ['chrom', 'type', 'start', 'stop', 'direction', 'annotation']\n",
    "gff = gff[(gff['type'] == 'gene')]\n",
    "gff['gene'] = gff['annotation'].str.split(';',expand=True)[0].str.split(\"ID=gene-\", expand=True)[1]\n",
    "gff['midpoint'] = gff['start'] + (gff['stop']-gff['start'])/2\n",
    "\n",
    "gff = gff[gff['gene'].isin(exp.index.tolist())]\n",
    "gff.shape"
   ]
  },
  {
   "cell_type": "code",
   "execution_count": 5,
   "id": "recreational-curtis",
   "metadata": {},
   "outputs": [],
   "source": [
    "chr_lens = {'CP075068.1':8340845,\n",
    "            'CP075069.1':8079863,\n",
    "            'CP075070.1':6494557,\n",
    "            'CP075071.1':3437093,\n",
    "            'CP075072.1':1489275}\n"
   ]
  },
  {
   "cell_type": "code",
   "execution_count": 6,
   "id": "suited-story",
   "metadata": {},
   "outputs": [],
   "source": [
    "#function to assign genes to windows based on their midpoints\n",
    "\n",
    "def get_genes_in_window(window_start, window_size, chrom, gff):\n",
    "    \n",
    "    temp = gff[gff['chrom']==chrom]    \n",
    "    temp = temp[temp['midpoint'].between(window_start, window_start+window_size)]['gene'].tolist()\n",
    "    return [g for g in temp if g in exp.index.tolist()]"
   ]
  },
  {
   "cell_type": "code",
   "execution_count": 14,
   "id": "universal-bangladesh",
   "metadata": {},
   "outputs": [],
   "source": [
    "#divide genome into windows\n",
    "\n",
    "window_size = 25000\n",
    "\n",
    "chr_windows = {}\n",
    "\n",
    "for chrom, chrom_len in chr_lens.items():\n",
    "    chr_windows[chrom] = np.arange(0, chrom_len, window_size)\n",
    "    \n",
    "gene_windows = []\n",
    "gene_windows_by_chrom = {}\n",
    "\n",
    "for chrom in chr_windows:\n",
    "    for window in chr_windows[chrom]:\n",
    "        genes_in_window = get_genes_in_window(window, window_size, chrom, gff)\n",
    "        if genes_in_window:\n",
    "            gene_windows += [genes_in_window]\n",
    "    gene_windows_by_chrom[chrom] = gene_windows\n",
    "            "
   ]
  },
  {
   "cell_type": "code",
   "execution_count": 31,
   "id": "prompt-calibration",
   "metadata": {},
   "outputs": [
    {
     "name": "stdout",
     "output_type": "stream",
     "text": [
      "real count of windows with at least 4 spherule-upregulated genes: 36\n"
     ]
    },
    {
     "data": {
      "text/plain": [
       "99.985"
      ]
     },
     "execution_count": 31,
     "metadata": {},
     "output_type": "execute_result"
    }
   ],
   "source": [
    "threshold = 4\n",
    "n = 10000\n",
    "np.random.seed(100)\n",
    "spherule_genes = exp[exp['Beyhan_exp']=='spherule_upreg'].index.drop_duplicates().tolist()\n",
    "\n",
    "\n",
    "###REAL WINDOW COUNTS\n",
    "real_high_spherule_gene_areas = []\n",
    "\n",
    "for window in gene_windows:\n",
    "    spherule_genes_in_window = [gene for gene in window if gene in spherule_genes]\n",
    "    if len(spherule_genes_in_window) >= threshold:\n",
    "        real_high_spherule_gene_areas += [window]\n",
    "print('real count of windows with at least {} spherule-upregulated genes: {}'.format(threshold, len(real_high_spherule_gene_areas)))        \n",
    "     \n",
    "\n",
    "###BOOTSTRAPPED WINDOW COUNTS\n",
    "bootstrap_high_spherule_gene_areas = []\n",
    "num_spherule_genes = len(spherule_genes)\n",
    "all_genes = exp.index.drop_duplicates().to_numpy()\n",
    "\n",
    "for i in range(n):\n",
    "    \n",
    "    randomized_spherule_genes = np.random.choice(all_genes, num_spherule_genes, replace=False)\n",
    "    windows_at_or_over_threshold = 0\n",
    "    for window in gene_windows:\n",
    "        spherule_genes_in_window = [gene for gene in window if gene in randomized_spherule_genes]\n",
    "        \n",
    "        if len(spherule_genes_in_window) >= threshold:\n",
    "            windows_at_or_over_threshold += 1\n",
    "            \n",
    "    bootstrap_high_spherule_gene_areas += [windows_at_or_over_threshold]\n",
    "            \n",
    "bootstrap_high_spherule_gene_areas = sorted(bootstrap_high_spherule_gene_areas)\n",
    "real_count_percentile = percentileofscore(bootstrap_high_spherule_gene_areas, len(real_high_spherule_gene_areas), kind='mean')\n",
    "real_count_percentile"
   ]
  },
  {
   "cell_type": "code",
   "execution_count": null,
   "id": "pursuant-magazine",
   "metadata": {},
   "outputs": [],
   "source": [
    "1-.99985"
   ]
  },
  {
   "cell_type": "markdown",
   "id": "colored-helena",
   "metadata": {},
   "source": [
    "### Plotting\n"
   ]
  },
  {
   "cell_type": "code",
   "execution_count": 11,
   "id": "backed-freight",
   "metadata": {},
   "outputs": [],
   "source": [
    "spherule_genes = exp[exp['Beyhan_exp']=='spherule_upreg'].index.drop_duplicates().tolist()\n",
    "spherule_gff = gff[gff['gene'].isin(spherule_genes)]"
   ]
  },
  {
   "cell_type": "code",
   "execution_count": 12,
   "id": "comic-spokesman",
   "metadata": {},
   "outputs": [],
   "source": [
    "spherule_color1 = '#48a1b5'\n",
    "spherule_color2 = '#285963'"
   ]
  },
  {
   "cell_type": "code",
   "execution_count": 26,
   "id": "imposed-woman",
   "metadata": {},
   "outputs": [
    {
     "data": {
      "image/png": "[encoded data removed]",
      "text/plain": [
       "<Figure size 1500x500 with 1 Axes>"
      ]
     },
     "metadata": {},
     "output_type": "display_data"
    }
   ],
   "source": [
    "chr_windows = {}\n",
    "\n",
    "for chrom, chrom_len in chr_lens.items():\n",
    "    chr_windows[chrom] = np.arange(0, chrom_len, window_size)\n",
    "\n",
    "gene_windows_by_chrom = {}\n",
    "\n",
    "for chrom in chr_windows:\n",
    "    gene_windows = []\n",
    "    for window in chr_windows[chrom]:\n",
    "        genes_in_window = get_genes_in_window(window, window_size, chrom, spherule_gff)\n",
    "        gene_windows += [genes_in_window]\n",
    "            \n",
    "    gene_windows_by_chrom[chrom] = gene_windows\n",
    "\n",
    "plt.figure(figsize=(15,5))\n",
    "\n",
    "cumulative_chrom_lengths = [0]\n",
    "for i, (chrom, chrom_len) in enumerate(chr_lens.items()):\n",
    "    \n",
    "    if i%2 == 0:\n",
    "        color = spherule_color1\n",
    "    else:\n",
    "        color = spherule_color2\n",
    "\n",
    "    x = [i+cumulative_chrom_lengths[-1] for i in chr_windows[chrom]]\n",
    "    y = [len(g) for g in gene_windows_by_chrom[chrom]]\n",
    "    \n",
    "    plt.bar(x,y, ec=color)\n",
    "    \n",
    "    cumulative_chrom_lengths += [chrom_len+cumulative_chrom_lengths[-1]]\n",
    "    \n",
    "plt.axhline(y=threshold, color='darkgray', linestyle='--')\n",
    "    \n",
    "xtick_pos = [np.mean([cumulative_chrom_lengths[i], cumulative_chrom_lengths[i+1]]) for i in range(5)]\n",
    "plt.xticks(xtick_pos,np.arange(1,6), fontsize=14)\n",
    "plt.xlabel('Chromosome', fontsize=16)\n",
    "plt.ylabel('spherule-upregulated gene count', fontsize=16)\n",
    "plt.yticks(fontsize=14)\n",
    "plt.savefig('../figures/fig2A_raw.png', dpi=300)\n",
    "plt.show()    "
   ]
  },
  {
   "cell_type": "markdown",
   "id": "supreme-survival",
   "metadata": {},
   "source": [
    "### Save genes and their locations to file (Table S2)\n"
   ]
  },
  {
   "cell_type": "code",
   "execution_count": 28,
   "id": "selective-suggestion",
   "metadata": {},
   "outputs": [],
   "source": [
    "window_size = 25000\n",
    "all_window_genes = []\n",
    "windows = []\n",
    "chr_windows = {}\n",
    "\n",
    "for chrom, chrom_len in chr_lens.items():\n",
    "    chr_windows[chrom] = np.arange(0, chrom_len, window_size)\n",
    "    \n",
    "gene_windows = []\n",
    "\n",
    "for chrom in chr_windows:\n",
    "    for window in chr_windows[chrom]:\n",
    "        genes_in_window = get_genes_in_window(window, window_size, chrom, gff)\n",
    "        if genes_in_window:\n",
    "            gene_windows += [genes_in_window]\n",
    "            \n",
    "for window in gene_windows:\n",
    "    spherule_genes_in_window = [gene for gene in window if gene in spherule_genes]\n",
    "    if len(spherule_genes_in_window) >= threshold:\n",
    "        all_window_genes += window\n",
    "        windows += [window]"
   ]
  },
  {
   "cell_type": "code",
   "execution_count": 29,
   "id": "clinical-cleaning",
   "metadata": {},
   "outputs": [
    {
     "data": {
      "text/plain": [
       "36"
      ]
     },
     "execution_count": 29,
     "metadata": {},
     "output_type": "execute_result"
    }
   ],
   "source": [
    "len(windows)"
   ]
  },
  {
   "cell_type": "code",
   "execution_count": 30,
   "id": "medium-marina",
   "metadata": {},
   "outputs": [
    {
     "data": {
      "text/html": [
       "<div>\n",
       "<style scoped>\n",
       "    .dataframe tbody tr th:only-of-type {\n",
       "        vertical-align: middle;\n",
       "    }\n",
       "\n",
       "    .dataframe tbody tr th {\n",
       "        vertical-align: top;\n",
       "    }\n",
       "\n",
       "    .dataframe thead th {\n",
       "        text-align: right;\n",
       "    }\n",
       "</style>\n",
       "<table border=\"1\" class=\"dataframe\">\n",
       "  <thead>\n",
       "    <tr style=\"text-align: right;\">\n",
       "      <th></th>\n",
       "      <th>window_number</th>\n",
       "      <th>gene</th>\n",
       "      <th>chrom</th>\n",
       "      <th>start</th>\n",
       "      <th>stop</th>\n",
       "      <th>annotation</th>\n",
       "      <th>expression (Mandel et al 2022)</th>\n",
       "    </tr>\n",
       "  </thead>\n",
       "  <tbody>\n",
       "    <tr>\n",
       "      <th>11128</th>\n",
       "      <td>1</td>\n",
       "      <td>D8B26_001344</td>\n",
       "      <td>1</td>\n",
       "      <td>4801685</td>\n",
       "      <td>4802922</td>\n",
       "      <td>ID=gene-D8B26_001344;Name=D8B26_001344;gbkey=G...</td>\n",
       "      <td>no upreg</td>\n",
       "    </tr>\n",
       "    <tr>\n",
       "      <th>11134</th>\n",
       "      <td>1</td>\n",
       "      <td>D8B26_001345</td>\n",
       "      <td>1</td>\n",
       "      <td>4802316</td>\n",
       "      <td>4804852</td>\n",
       "      <td>ID=gene-D8B26_001345;Name=D8B26_001345;gbkey=G...</td>\n",
       "      <td>no upreg</td>\n",
       "    </tr>\n",
       "    <tr>\n",
       "      <th>11150</th>\n",
       "      <td>1</td>\n",
       "      <td>D8B26_001348</td>\n",
       "      <td>1</td>\n",
       "      <td>4809638</td>\n",
       "      <td>4811908</td>\n",
       "      <td>ID=gene-D8B26_001348;Name=D8B26_001348;gbkey=G...</td>\n",
       "      <td>spherule_upreg</td>\n",
       "    </tr>\n",
       "    <tr>\n",
       "      <th>11165</th>\n",
       "      <td>1</td>\n",
       "      <td>D8B26_001350</td>\n",
       "      <td>1</td>\n",
       "      <td>4812883</td>\n",
       "      <td>4815642</td>\n",
       "      <td>ID=gene-D8B26_001350;Name=D8B26_001350;gbkey=G...</td>\n",
       "      <td>spherule_upreg</td>\n",
       "    </tr>\n",
       "    <tr>\n",
       "      <th>11179</th>\n",
       "      <td>1</td>\n",
       "      <td>D8B26_001351</td>\n",
       "      <td>1</td>\n",
       "      <td>4816029</td>\n",
       "      <td>4816781</td>\n",
       "      <td>ID=gene-D8B26_001351;Name=D8B26_001351;gbkey=G...</td>\n",
       "      <td>spherule_upreg</td>\n",
       "    </tr>\n",
       "    <tr>\n",
       "      <th>...</th>\n",
       "      <td>...</td>\n",
       "      <td>...</td>\n",
       "      <td>...</td>\n",
       "      <td>...</td>\n",
       "      <td>...</td>\n",
       "      <td>...</td>\n",
       "      <td>...</td>\n",
       "    </tr>\n",
       "    <tr>\n",
       "      <th>69422</th>\n",
       "      <td>36</td>\n",
       "      <td>D8B26_008325</td>\n",
       "      <td>5</td>\n",
       "      <td>1036387</td>\n",
       "      <td>1036794</td>\n",
       "      <td>ID=gene-D8B26_008325;Name=D8B26_008325;gbkey=G...</td>\n",
       "      <td>spherule_upreg</td>\n",
       "    </tr>\n",
       "    <tr>\n",
       "      <th>69426</th>\n",
       "      <td>36</td>\n",
       "      <td>D8B26_008326</td>\n",
       "      <td>5</td>\n",
       "      <td>1037882</td>\n",
       "      <td>1038346</td>\n",
       "      <td>ID=gene-D8B26_008326;Name=D8B26_008326;gbkey=G...</td>\n",
       "      <td>spherule_upreg</td>\n",
       "    </tr>\n",
       "    <tr>\n",
       "      <th>69436</th>\n",
       "      <td>36</td>\n",
       "      <td>D8B26_008328</td>\n",
       "      <td>5</td>\n",
       "      <td>1040080</td>\n",
       "      <td>1042549</td>\n",
       "      <td>ID=gene-D8B26_008328;Name=D8B26_008328;gbkey=G...</td>\n",
       "      <td>spherule_upreg</td>\n",
       "    </tr>\n",
       "    <tr>\n",
       "      <th>69442</th>\n",
       "      <td>36</td>\n",
       "      <td>D8B26_008329</td>\n",
       "      <td>5</td>\n",
       "      <td>1043106</td>\n",
       "      <td>1047295</td>\n",
       "      <td>ID=gene-D8B26_008329;Name=D8B26_008329;gbkey=G...</td>\n",
       "      <td>no upreg</td>\n",
       "    </tr>\n",
       "    <tr>\n",
       "      <th>69452</th>\n",
       "      <td>36</td>\n",
       "      <td>D8B26_008330</td>\n",
       "      <td>5</td>\n",
       "      <td>1048637</td>\n",
       "      <td>1049443</td>\n",
       "      <td>ID=gene-D8B26_008330;Name=D8B26_008330;gbkey=G...</td>\n",
       "      <td>no upreg</td>\n",
       "    </tr>\n",
       "  </tbody>\n",
       "</table>\n",
       "<p>310 rows × 7 columns</p>\n",
       "</div>"
      ],
      "text/plain": [
       "      window_number          gene  chrom    start     stop  \\\n",
       "11128             1  D8B26_001344      1  4801685  4802922   \n",
       "11134             1  D8B26_001345      1  4802316  4804852   \n",
       "11150             1  D8B26_001348      1  4809638  4811908   \n",
       "11165             1  D8B26_001350      1  4812883  4815642   \n",
       "11179             1  D8B26_001351      1  4816029  4816781   \n",
       "...             ...           ...    ...      ...      ...   \n",
       "69422            36  D8B26_008325      5  1036387  1036794   \n",
       "69426            36  D8B26_008326      5  1037882  1038346   \n",
       "69436            36  D8B26_008328      5  1040080  1042549   \n",
       "69442            36  D8B26_008329      5  1043106  1047295   \n",
       "69452            36  D8B26_008330      5  1048637  1049443   \n",
       "\n",
       "                                              annotation  \\\n",
       "11128  ID=gene-D8B26_001344;Name=D8B26_001344;gbkey=G...   \n",
       "11134  ID=gene-D8B26_001345;Name=D8B26_001345;gbkey=G...   \n",
       "11150  ID=gene-D8B26_001348;Name=D8B26_001348;gbkey=G...   \n",
       "11165  ID=gene-D8B26_001350;Name=D8B26_001350;gbkey=G...   \n",
       "11179  ID=gene-D8B26_001351;Name=D8B26_001351;gbkey=G...   \n",
       "...                                                  ...   \n",
       "69422  ID=gene-D8B26_008325;Name=D8B26_008325;gbkey=G...   \n",
       "69426  ID=gene-D8B26_008326;Name=D8B26_008326;gbkey=G...   \n",
       "69436  ID=gene-D8B26_008328;Name=D8B26_008328;gbkey=G...   \n",
       "69442  ID=gene-D8B26_008329;Name=D8B26_008329;gbkey=G...   \n",
       "69452  ID=gene-D8B26_008330;Name=D8B26_008330;gbkey=G...   \n",
       "\n",
       "      expression (Mandel et al 2022)  \n",
       "11128                       no upreg  \n",
       "11134                       no upreg  \n",
       "11150                 spherule_upreg  \n",
       "11165                 spherule_upreg  \n",
       "11179                 spherule_upreg  \n",
       "...                              ...  \n",
       "69422                 spherule_upreg  \n",
       "69426                 spherule_upreg  \n",
       "69436                 spherule_upreg  \n",
       "69442                       no upreg  \n",
       "69452                       no upreg  \n",
       "\n",
       "[310 rows x 7 columns]"
      ]
     },
     "execution_count": 30,
     "metadata": {},
     "output_type": "execute_result"
    }
   ],
   "source": [
    "gene_info = gff[gff['gene'].isin(all_window_genes)][['gene', 'chrom', 'start', 'stop', 'annotation']]\n",
    "gene_info = gene_info.merge(exp['Beyhan_exp'], left_on='gene', right_index=True)\n",
    "gene_info = gene_info.rename(columns={'Beyhan_exp':'expression (Mandel et al 2022)'})\n",
    "\n",
    "chr_nums = {'CP075068.1':1,\n",
    "            'CP075069.1':2,\n",
    "            'CP075070.1':3,\n",
    "            'CP075071.1':4,\n",
    "            'CP075072.1':5}\n",
    "\n",
    "gene_info = gene_info.replace({\"chrom\": chr_nums})\n",
    "\n",
    "gene_window_dict = {}\n",
    "window_num = 1\n",
    "for gene in all_window_genes:\n",
    "    if gene in windows[window_num-1]:\n",
    "        gene_window_dict[gene] = str(window_num)\n",
    "    else:\n",
    "        window_num += 1\n",
    "        gene_window_dict[gene] = str(window_num)\n",
    "\n",
    "        \n",
    "gene_info['window_number'] = gene_info['gene'].map(gene_window_dict)\n",
    "gene_info = gene_info[['window_number']+list(gene_info.columns[:-1])]\n",
    "\n",
    "gene_info.to_csv('../tables/TableS2_spherules.csv', index=False)"
   ]
  },
  {
   "cell_type": "code",
   "execution_count": null,
   "id": "suffering-yield",
   "metadata": {},
   "outputs": [],
   "source": []
  }
 ],
 "metadata": {
  "kernelspec": {
   "display_name": "py3",
   "language": "python",
   "name": "py3"
  },
  "language_info": {
   "codemirror_mode": {
    "name": "ipython",
    "version": 3
   },
   "file_extension": ".py",
   "mimetype": "text/x-python",
   "name": "python",
   "nbconvert_exporter": "python",
   "pygments_lexer": "ipython3",
   "version": "3.8.5"
  }
 },
 "nbformat": 4,
 "nbformat_minor": 5
}
