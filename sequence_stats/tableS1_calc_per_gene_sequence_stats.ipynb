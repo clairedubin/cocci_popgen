{
 "cells": [
  {
   "cell_type": "code",
   "execution_count": 1,
   "id": "cultural-entity",
   "metadata": {},
   "outputs": [],
   "source": [
    "import os\n",
    "import pandas as pd\n",
    "import dendropy\n",
    "import csv\n",
    "from Bio import SeqIO\n",
    "import numpy as np\n",
    "import json\n",
    "import egglib"
   ]
  },
  {
   "cell_type": "markdown",
   "id": "deluxe-crystal",
   "metadata": {},
   "source": [
    "Filters already applied when generating  alignments:\n",
    "\n",
    "    -drop sequences for which a strain has CNV in the gene\n",
    "    -drop sequences with mid-sequence stop codons\n",
    "    -drop alignments with valid sequences from fewer than 75% of strains"
   ]
  },
  {
   "cell_type": "code",
   "execution_count": 2,
   "id": "soviet-gathering",
   "metadata": {},
   "outputs": [],
   "source": [
    "#get list of AZ strains\n",
    "\n",
    "strains = pd.read_csv('../isolate_and_pop_info/isolate_and_population_info.csv')\n",
    "AZ_strains = strains[strains['Population']=='AZ']['Isolate ID'].tolist()\n",
    "TXMXSA_strains = strains[strains['Population']=='TXMXSA']['Isolate ID'].tolist()"
   ]
  },
  {
   "cell_type": "markdown",
   "id": "durable-facial",
   "metadata": {},
   "source": [
    "### Calculate Pi for AZ population"
   ]
  },
  {
   "cell_type": "code",
   "execution_count": 3,
   "id": "prepared-backing",
   "metadata": {},
   "outputs": [],
   "source": [
    "def pi(d):\n",
    "    return dendropy.calculate.popgenstat.nucleotide_diversity(d)"
   ]
  },
  {
   "cell_type": "code",
   "execution_count": 4,
   "id": "automated-arctic",
   "metadata": {},
   "outputs": [],
   "source": [
    "def filter_strains(file, gap_max=0, strain_count_min=0):\n",
    "\n",
    "    seq_dict = {}\n",
    "    \n",
    "    for record in SeqIO.parse(file, 'fasta'):\n",
    "        \n",
    "        strain=record.id\n",
    "        seq = str(record.seq)\n",
    "        if (seq.count('-') + seq.count('N') + seq.count('n')) / len(seq) > gap_max:\n",
    "            continue\n",
    "        seq_dict[strain] = seq\n",
    "\n",
    "    if len(seq_dict) < strain_count_min:\n",
    "        return \n",
    "\n",
    "    return seq_dict"
   ]
  },
  {
   "cell_type": "code",
   "execution_count": 8,
   "id": "abstract-supply",
   "metadata": {
    "scrolled": true
   },
   "outputs": [],
   "source": [
    "strain_count_min=.75*len(AZ_strains)\n",
    "gap_max=0.05\n",
    "fasta_dir = '../sequence_data/alignments/AZ_gene_fastas_aligned/'\n",
    "\n",
    "out_dict = {}\n",
    "    \n",
    "for f in sorted(os.listdir(fasta_dir)):\n",
    "    \n",
    "    gene = f.split('.')[0]\n",
    "    strain_dict = filter_strains(fasta_dir+f, gap_max, strain_count_min)\n",
    "    \n",
    "    if strain_dict:\n",
    "        \n",
    "        d = dendropy.DnaCharacterMatrix.from_dict(strain_dict)\n",
    "        pi_val = pi(d)\n",
    "        out_dict[gene] = [pi_val]\n",
    "\n",
    "    "
   ]
  },
  {
   "cell_type": "code",
   "execution_count": 7,
   "id": "knowing-promise",
   "metadata": {},
   "outputs": [
    {
     "data": {
      "text/html": [
       "<div>\n",
       "<style scoped>\n",
       "    .dataframe tbody tr th:only-of-type {\n",
       "        vertical-align: middle;\n",
       "    }\n",
       "\n",
       "    .dataframe tbody tr th {\n",
       "        vertical-align: top;\n",
       "    }\n",
       "\n",
       "    .dataframe thead th {\n",
       "        text-align: right;\n",
       "    }\n",
       "</style>\n",
       "<table border=\"1\" class=\"dataframe\">\n",
       "  <thead>\n",
       "    <tr style=\"text-align: right;\">\n",
       "      <th></th>\n",
       "      <th>pi_AZ</th>\n",
       "    </tr>\n",
       "  </thead>\n",
       "  <tbody>\n",
       "    <tr>\n",
       "      <th>D8B26_000001</th>\n",
       "      <td>0.013427</td>\n",
       "    </tr>\n",
       "    <tr>\n",
       "      <th>D8B26_000002</th>\n",
       "      <td>0.004111</td>\n",
       "    </tr>\n",
       "    <tr>\n",
       "      <th>D8B26_000003</th>\n",
       "      <td>0.006430</td>\n",
       "    </tr>\n",
       "    <tr>\n",
       "      <th>D8B26_000004</th>\n",
       "      <td>0.003481</td>\n",
       "    </tr>\n",
       "    <tr>\n",
       "      <th>D8B26_000007</th>\n",
       "      <td>0.000145</td>\n",
       "    </tr>\n",
       "  </tbody>\n",
       "</table>\n",
       "</div>"
      ],
      "text/plain": [
       "                 pi_AZ\n",
       "D8B26_000001  0.013427\n",
       "D8B26_000002  0.004111\n",
       "D8B26_000003  0.006430\n",
       "D8B26_000004  0.003481\n",
       "D8B26_000007  0.000145"
      ]
     },
     "execution_count": 7,
     "metadata": {},
     "output_type": "execute_result"
    }
   ],
   "source": [
    "pi_AZ_df = pd.DataFrame.from_dict(out_dict, orient='index')\n",
    "pi_AZ_df.columns=['pi_AZ']\n",
    "pi_AZ_df.head()"
   ]
  },
  {
   "cell_type": "markdown",
   "id": "atmospheric-hypothesis",
   "metadata": {},
   "source": [
    "### Calculate Pi for TX/MX/SA population"
   ]
  },
  {
   "cell_type": "code",
   "execution_count": 11,
   "id": "tutorial-guide",
   "metadata": {},
   "outputs": [],
   "source": [
    "strain_count_min=.75*len(TXMXSA_strains)\n",
    "gap_max=0.05\n",
    "fasta_dir = '../sequence_data/alignments/TXMXSA_gene_fastas_aligned/'\n",
    "\n",
    "out_dict = {}\n",
    "    \n",
    "for f in sorted(os.listdir(fasta_dir)):\n",
    "    \n",
    "    gene = f.split('.')[0]\n",
    "    strain_dict = filter_strains(fasta_dir+f, gap_max, strain_count_min)\n",
    "    \n",
    "    if strain_dict:\n",
    "        \n",
    "        d = dendropy.DnaCharacterMatrix.from_dict(strain_dict)\n",
    "        pi_val = pi(d)\n",
    "        out_dict[gene] = [pi_val]\n",
    "    "
   ]
  },
  {
   "cell_type": "code",
   "execution_count": 12,
   "id": "adult-fifth",
   "metadata": {},
   "outputs": [
    {
     "data": {
      "text/html": [
       "<div>\n",
       "<style scoped>\n",
       "    .dataframe tbody tr th:only-of-type {\n",
       "        vertical-align: middle;\n",
       "    }\n",
       "\n",
       "    .dataframe tbody tr th {\n",
       "        vertical-align: top;\n",
       "    }\n",
       "\n",
       "    .dataframe thead th {\n",
       "        text-align: right;\n",
       "    }\n",
       "</style>\n",
       "<table border=\"1\" class=\"dataframe\">\n",
       "  <thead>\n",
       "    <tr style=\"text-align: right;\">\n",
       "      <th></th>\n",
       "      <th>pi_TXMXSA</th>\n",
       "    </tr>\n",
       "  </thead>\n",
       "  <tbody>\n",
       "    <tr>\n",
       "      <th>D8B26_000009</th>\n",
       "      <td>0.002158</td>\n",
       "    </tr>\n",
       "    <tr>\n",
       "      <th>D8B26_000010</th>\n",
       "      <td>0.002826</td>\n",
       "    </tr>\n",
       "    <tr>\n",
       "      <th>D8B26_000011</th>\n",
       "      <td>0.003799</td>\n",
       "    </tr>\n",
       "    <tr>\n",
       "      <th>D8B26_000013</th>\n",
       "      <td>0.001642</td>\n",
       "    </tr>\n",
       "    <tr>\n",
       "      <th>D8B26_000014</th>\n",
       "      <td>0.001641</td>\n",
       "    </tr>\n",
       "  </tbody>\n",
       "</table>\n",
       "</div>"
      ],
      "text/plain": [
       "              pi_TXMXSA\n",
       "D8B26_000009   0.002158\n",
       "D8B26_000010   0.002826\n",
       "D8B26_000011   0.003799\n",
       "D8B26_000013   0.001642\n",
       "D8B26_000014   0.001641"
      ]
     },
     "execution_count": 12,
     "metadata": {},
     "output_type": "execute_result"
    }
   ],
   "source": [
    "pi_TXMXSA_df = pd.DataFrame.from_dict(out_dict, orient='index')\n",
    "pi_TXMXSA_df.columns=['pi_TXMXSA']\n",
    "pi_TXMXSA_df.head()"
   ]
  },
  {
   "cell_type": "markdown",
   "id": "convinced-practice",
   "metadata": {},
   "source": [
    "### Calc DXY between AZ and TX/MX/SA population"
   ]
  },
  {
   "cell_type": "code",
   "execution_count": 13,
   "id": "white-collaboration",
   "metadata": {},
   "outputs": [],
   "source": [
    "good_nucs = 'ACGTactg'\n",
    "\n",
    "def dxy(pop1_seqs, pop2_seqs):\n",
    "\n",
    "    pop1_strain_count, pop2_strain_count = len(pop1_seqs), len(pop2_seqs)\n",
    "    dxy = 0\n",
    "    for pop1_seq in pop1_seqs:\n",
    "        for pop2_seq in pop2_seqs:\n",
    "            for i in range(len(pop1_seq)):\n",
    "                if pop2_seq[i] != pop1_seq[i] and pop2_seq[i] in good_nucs and pop1_seq[i] in good_nucs:\n",
    "                    dxy += 1\n",
    "\n",
    "    dxy = dxy / (pop1_strain_count * pop2_strain_count * len(pop1_seqs[0]))\n",
    "    return dxy"
   ]
  },
  {
   "cell_type": "code",
   "execution_count": 14,
   "id": "technical-teddy",
   "metadata": {},
   "outputs": [],
   "source": [
    "def filter_strains(file, gene, gap_max=0, pop1_strain_count_min=0, pop2_strain_count_min=0):\n",
    "\n",
    "    pop1_seq_dict, pop2_seq_dict = {}, {}  \n",
    "\n",
    "    for record in SeqIO.parse(file, 'fasta'):\n",
    "        \n",
    "        strain=record.description.split('_variants.')[0]\n",
    "        seq = str(record.seq)\n",
    "        \n",
    "        if strain in AZ_strains:\n",
    "            if (seq.count('-') + seq.count('N') + seq.count('n')) / len(seq) > gap_max:\n",
    "                continue\n",
    "            pop1_seq_dict[strain] = seq\n",
    "        \n",
    "        elif strain in TXMXSA_strains:\n",
    "            if (seq.count('-') + seq.count('N') + seq.count('n')) / len(seq) > gap_max:\n",
    "                continue\n",
    "            pop2_seq_dict[strain] = seq\n",
    "\n",
    "    if len(pop1_seq_dict) < pop1_strain_count_min or len(pop2_seq_dict) < pop2_strain_count_min:\n",
    "        return\n",
    "\n",
    "    return pop1_seq_dict, pop2_seq_dict"
   ]
  },
  {
   "cell_type": "code",
   "execution_count": 15,
   "id": "stunning-borough",
   "metadata": {},
   "outputs": [],
   "source": [
    "aligned_fastas = '../sequence_data/alignments/AZ_TXMXSA_gene_fastas_aligned/'\n",
    "dxy_dict = {}\n",
    "\n",
    "gap_max=0.05\n",
    "AZ_strain_count_min=.75*len(AZ_strains)\n",
    "TXMXSA_strain_count_min=.75*len(TXMXSA_strains)\n",
    "\n",
    "for f in sorted(os.listdir(aligned_fastas)):\n",
    "    \n",
    "    gene = f.split('.')[0]\n",
    "    seq_dict = filter_strains(aligned_fastas+f, gene, gap_max=gap_max,  \n",
    "                              pop1_strain_count_min=AZ_strain_count_min, \n",
    "                              pop2_strain_count_min=TXMXSA_strain_count_min)\n",
    "\n",
    "    if seq_dict:\n",
    "        AZ_seq_dict, TXMXSA_seq_dict = seq_dict\n",
    "        dxy_gene = dxy(list(AZ_seq_dict.values()), list(TXMXSA_seq_dict.values()))\n",
    "        dxy_dict[gene] = dxy_gene"
   ]
  },
  {
   "cell_type": "code",
   "execution_count": 16,
   "id": "suspected-motion",
   "metadata": {},
   "outputs": [
    {
     "data": {
      "text/html": [
       "<div>\n",
       "<style scoped>\n",
       "    .dataframe tbody tr th:only-of-type {\n",
       "        vertical-align: middle;\n",
       "    }\n",
       "\n",
       "    .dataframe tbody tr th {\n",
       "        vertical-align: top;\n",
       "    }\n",
       "\n",
       "    .dataframe thead th {\n",
       "        text-align: right;\n",
       "    }\n",
       "</style>\n",
       "<table border=\"1\" class=\"dataframe\">\n",
       "  <thead>\n",
       "    <tr style=\"text-align: right;\">\n",
       "      <th></th>\n",
       "      <th>DXY</th>\n",
       "    </tr>\n",
       "  </thead>\n",
       "  <tbody>\n",
       "    <tr>\n",
       "      <th>D8B26_000009</th>\n",
       "      <td>0.002055</td>\n",
       "    </tr>\n",
       "    <tr>\n",
       "      <th>D8B26_000010</th>\n",
       "      <td>0.002184</td>\n",
       "    </tr>\n",
       "    <tr>\n",
       "      <th>D8B26_000011</th>\n",
       "      <td>0.003887</td>\n",
       "    </tr>\n",
       "    <tr>\n",
       "      <th>D8B26_000013</th>\n",
       "      <td>0.001649</td>\n",
       "    </tr>\n",
       "    <tr>\n",
       "      <th>D8B26_000014</th>\n",
       "      <td>0.002098</td>\n",
       "    </tr>\n",
       "  </tbody>\n",
       "</table>\n",
       "</div>"
      ],
      "text/plain": [
       "                   DXY\n",
       "D8B26_000009  0.002055\n",
       "D8B26_000010  0.002184\n",
       "D8B26_000011  0.003887\n",
       "D8B26_000013  0.001649\n",
       "D8B26_000014  0.002098"
      ]
     },
     "execution_count": 16,
     "metadata": {},
     "output_type": "execute_result"
    }
   ],
   "source": [
    "dxy_df = pd.DataFrame.from_dict(dxy_dict, orient='index')\n",
    "dxy_df.columns=['DXY']\n",
    "dxy_df.head()"
   ]
  },
  {
   "cell_type": "markdown",
   "id": "compatible-northwest",
   "metadata": {},
   "source": [
    "### Calculate PnPs for AZ population\n",
    "\n",
    "PnPs = (N/NSites)/(S/SSites)\n",
    "\n",
    "formula from: https://journals.plos.org/plosgenetics/article?id=10.1371/journal.pgen.1008223#pgen.1008223.ref095"
   ]
  },
  {
   "cell_type": "code",
   "execution_count": 17,
   "id": "published-swiss",
   "metadata": {},
   "outputs": [],
   "source": [
    "pn_ps_dict = {}\n",
    "\n",
    "codon_alignments = '../sequence_data/alignments/AZ_codon_aligned/'\n",
    "\n",
    "for f in sorted(os.listdir(codon_alignments)):\n",
    "\n",
    "    gene = f.replace('.pal2nal.fasta', '')\n",
    "\n",
    "    aln = egglib.io.from_fasta(codon_alignments+f,alphabet=egglib.alphabets.DNA)\n",
    "\n",
    "    codons = egglib.tools.to_codons(aln)\n",
    "    cd = egglib.stats.CodingDiversity(codons)\n",
    "\n",
    "    N, Nsites = cd.num_pol_NS,cd.num_sites_NS\n",
    "    S, Ssites = cd.num_pol_S,cd.num_sites_S\n",
    "\n",
    "    try:\n",
    "        pnps = (N/Nsites)/(S/Ssites)\n",
    "\n",
    "    except ZeroDivisionError:\n",
    "        pnps = np.inf\n",
    "\n",
    "    pn_ps_dict[gene] = [pnps]\n"
   ]
  },
  {
   "cell_type": "code",
   "execution_count": 19,
   "id": "minor-synthetic",
   "metadata": {},
   "outputs": [
    {
     "data": {
      "text/html": [
       "<div>\n",
       "<style scoped>\n",
       "    .dataframe tbody tr th:only-of-type {\n",
       "        vertical-align: middle;\n",
       "    }\n",
       "\n",
       "    .dataframe tbody tr th {\n",
       "        vertical-align: top;\n",
       "    }\n",
       "\n",
       "    .dataframe thead th {\n",
       "        text-align: right;\n",
       "    }\n",
       "</style>\n",
       "<table border=\"1\" class=\"dataframe\">\n",
       "  <thead>\n",
       "    <tr style=\"text-align: right;\">\n",
       "      <th></th>\n",
       "      <th>PnPs</th>\n",
       "    </tr>\n",
       "  </thead>\n",
       "  <tbody>\n",
       "    <tr>\n",
       "      <th>D8B26_000001</th>\n",
       "      <td>0.907040</td>\n",
       "    </tr>\n",
       "    <tr>\n",
       "      <th>D8B26_000002</th>\n",
       "      <td>0.430434</td>\n",
       "    </tr>\n",
       "    <tr>\n",
       "      <th>D8B26_000003</th>\n",
       "      <td>0.524033</td>\n",
       "    </tr>\n",
       "    <tr>\n",
       "      <th>D8B26_000004</th>\n",
       "      <td>0.270093</td>\n",
       "    </tr>\n",
       "    <tr>\n",
       "      <th>D8B26_000006</th>\n",
       "      <td>0.652013</td>\n",
       "    </tr>\n",
       "  </tbody>\n",
       "</table>\n",
       "</div>"
      ],
      "text/plain": [
       "                  PnPs\n",
       "D8B26_000001  0.907040\n",
       "D8B26_000002  0.430434\n",
       "D8B26_000003  0.524033\n",
       "D8B26_000004  0.270093\n",
       "D8B26_000006  0.652013"
      ]
     },
     "execution_count": 19,
     "metadata": {},
     "output_type": "execute_result"
    }
   ],
   "source": [
    "pnps_df = pd.DataFrame.from_dict(pn_ps_dict, orient='index')\n",
    "pnps_df.columns = ['PnPs']\n",
    "pnps_df.head()"
   ]
  },
  {
   "cell_type": "markdown",
   "id": "musical-colon",
   "metadata": {},
   "source": [
    "### Combine stats"
   ]
  },
  {
   "cell_type": "code",
   "execution_count": 23,
   "id": "suspected-mainstream",
   "metadata": {},
   "outputs": [
    {
     "data": {
      "text/html": [
       "<div>\n",
       "<style scoped>\n",
       "    .dataframe tbody tr th:only-of-type {\n",
       "        vertical-align: middle;\n",
       "    }\n",
       "\n",
       "    .dataframe tbody tr th {\n",
       "        vertical-align: top;\n",
       "    }\n",
       "\n",
       "    .dataframe thead th {\n",
       "        text-align: right;\n",
       "    }\n",
       "</style>\n",
       "<table border=\"1\" class=\"dataframe\">\n",
       "  <thead>\n",
       "    <tr style=\"text-align: right;\">\n",
       "      <th></th>\n",
       "      <th>pi_AZ</th>\n",
       "      <th>pi_TXMXSA</th>\n",
       "      <th>DXY</th>\n",
       "      <th>PnPs</th>\n",
       "    </tr>\n",
       "  </thead>\n",
       "  <tbody>\n",
       "    <tr>\n",
       "      <th>D8B26_000001</th>\n",
       "      <td>0.013427</td>\n",
       "      <td>NaN</td>\n",
       "      <td>NaN</td>\n",
       "      <td>0.907040</td>\n",
       "    </tr>\n",
       "    <tr>\n",
       "      <th>D8B26_000002</th>\n",
       "      <td>0.004111</td>\n",
       "      <td>NaN</td>\n",
       "      <td>NaN</td>\n",
       "      <td>0.430434</td>\n",
       "    </tr>\n",
       "    <tr>\n",
       "      <th>D8B26_000003</th>\n",
       "      <td>0.006430</td>\n",
       "      <td>NaN</td>\n",
       "      <td>NaN</td>\n",
       "      <td>0.524033</td>\n",
       "    </tr>\n",
       "    <tr>\n",
       "      <th>D8B26_000004</th>\n",
       "      <td>0.003481</td>\n",
       "      <td>NaN</td>\n",
       "      <td>NaN</td>\n",
       "      <td>0.270093</td>\n",
       "    </tr>\n",
       "    <tr>\n",
       "      <th>D8B26_000006</th>\n",
       "      <td>NaN</td>\n",
       "      <td>NaN</td>\n",
       "      <td>NaN</td>\n",
       "      <td>0.652013</td>\n",
       "    </tr>\n",
       "  </tbody>\n",
       "</table>\n",
       "</div>"
      ],
      "text/plain": [
       "                 pi_AZ  pi_TXMXSA  DXY      PnPs\n",
       "D8B26_000001  0.013427        NaN  NaN  0.907040\n",
       "D8B26_000002  0.004111        NaN  NaN  0.430434\n",
       "D8B26_000003  0.006430        NaN  NaN  0.524033\n",
       "D8B26_000004  0.003481        NaN  NaN  0.270093\n",
       "D8B26_000006       NaN        NaN  NaN  0.652013"
      ]
     },
     "execution_count": 23,
     "metadata": {},
     "output_type": "execute_result"
    }
   ],
   "source": [
    "merged = pi_AZ_df.merge(pi_TXMXSA_df, left_index=True, right_index=True, how='outer')\n",
    "merged = merged.merge(dxy_df, left_index=True, right_index=True, how='outer')\n",
    "merged = merged.merge(pnps_df, left_index=True, right_index=True, how='outer')\n",
    "merged.head()"
   ]
  },
  {
   "cell_type": "code",
   "execution_count": 24,
   "id": "sixth-twins",
   "metadata": {},
   "outputs": [],
   "source": [
    "merged.to_csv('../tables/tableS1_sequence_stats_by_gene.csv')"
   ]
  }
 ],
 "metadata": {
  "kernelspec": {
   "display_name": "py3",
   "language": "python",
   "name": "py3"
  },
  "language_info": {
   "codemirror_mode": {
    "name": "ipython",
    "version": 3
   },
   "file_extension": ".py",
   "mimetype": "text/x-python",
   "name": "python",
   "nbconvert_exporter": "python",
   "pygments_lexer": "ipython3",
   "version": "3.8.5"
  }
 },
 "nbformat": 4,
 "nbformat_minor": 5
}
